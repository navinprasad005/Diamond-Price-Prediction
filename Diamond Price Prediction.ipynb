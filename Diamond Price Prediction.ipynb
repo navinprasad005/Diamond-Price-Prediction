{
 "cells": [
  {
   "cell_type": "markdown",
   "metadata": {},
   "source": [
    "# Diamond Price Prediction\n",
    "\n",
    "* Our objective is to predict the price of the diamond."
   ]
  },
  {
   "cell_type": "markdown",
   "metadata": {},
   "source": [
    "### Features:\n",
    "\n",
    "* **carat**: Weight of the diamond\n",
    "\n",
    "* **cut**: Quality of the cut (Fair, Good, Very Good, Premium, Ideal)\n",
    "\n",
    "* **color**: Diamond color\n",
    "\n",
    "* **depth**: Total depth percentage (it is calculated as: 2 * z / (x + y))\n",
    "\n",
    "* **table**: Width of top of the diamond relative to the widest point \n",
    "\n",
    "* **price**: Price of a diamond in US dollars (target/dependent variable)\n",
    "\n",
    "* **x**: Length of a diamond in mm\n",
    "\n",
    "* **y**: Width of a diamond in mm\n",
    "\n",
    "* **z**: Depth of a diamond in mm"
   ]
  },
  {
   "cell_type": "code",
   "execution_count": 1,
   "metadata": {
    "executionInfo": {
     "elapsed": 1294,
     "status": "ok",
     "timestamp": 1615958340966,
     "user": {
      "displayName": "vijaya bharathi paari",
      "photoUrl": "https://lh3.googleusercontent.com/a-/AOh14GgjhVrsY1cio12_7TS87bdYXqQu9_4C62ofGBjk=s64",
      "userId": "10977904578585558766"
     },
     "user_tz": -330
    },
    "id": "wcqQ5t72d08c"
   },
   "outputs": [],
   "source": [
    "import numpy as np\n",
    "import pandas as pd\n",
    "import matplotlib.pyplot as plt\n",
    "import seaborn as sns"
   ]
  },
  {
   "cell_type": "code",
   "execution_count": 2,
   "metadata": {
    "executionInfo": {
     "elapsed": 1023,
     "status": "ok",
     "timestamp": 1615958408156,
     "user": {
      "displayName": "vijaya bharathi paari",
      "photoUrl": "https://lh3.googleusercontent.com/a-/AOh14GgjhVrsY1cio12_7TS87bdYXqQu9_4C62ofGBjk=s64",
      "userId": "10977904578585558766"
     },
     "user_tz": -330
    },
    "id": "z3ys6GE-n9u2"
   },
   "outputs": [],
   "source": [
    "df = pd.read_csv(\"diamond_data.csv\")"
   ]
  },
  {
   "cell_type": "code",
   "execution_count": 3,
   "metadata": {
    "colab": {
     "base_uri": "https://localhost:8080/",
     "height": 195
    },
    "executionInfo": {
     "elapsed": 1137,
     "status": "ok",
     "timestamp": 1615959125971,
     "user": {
      "displayName": "vijaya bharathi paari",
      "photoUrl": "https://lh3.googleusercontent.com/a-/AOh14GgjhVrsY1cio12_7TS87bdYXqQu9_4C62ofGBjk=s64",
      "userId": "10977904578585558766"
     },
     "user_tz": -330
    },
    "id": "JTbdvwpGq1Vv",
    "outputId": "08e66d06-6e57-4887-f645-046b87569707"
   },
   "outputs": [
    {
     "data": {
      "text/html": [
       "<div>\n",
       "<style scoped>\n",
       "    .dataframe tbody tr th:only-of-type {\n",
       "        vertical-align: middle;\n",
       "    }\n",
       "\n",
       "    .dataframe tbody tr th {\n",
       "        vertical-align: top;\n",
       "    }\n",
       "\n",
       "    .dataframe thead th {\n",
       "        text-align: right;\n",
       "    }\n",
       "</style>\n",
       "<table border=\"1\" class=\"dataframe\">\n",
       "  <thead>\n",
       "    <tr style=\"text-align: right;\">\n",
       "      <th></th>\n",
       "      <th>carat</th>\n",
       "      <th>cut</th>\n",
       "      <th>color</th>\n",
       "      <th>depth</th>\n",
       "      <th>table</th>\n",
       "      <th>price</th>\n",
       "      <th>x</th>\n",
       "      <th>y</th>\n",
       "      <th>z</th>\n",
       "    </tr>\n",
       "  </thead>\n",
       "  <tbody>\n",
       "    <tr>\n",
       "      <th>0</th>\n",
       "      <td>0.30</td>\n",
       "      <td>Good</td>\n",
       "      <td>F</td>\n",
       "      <td>61.1</td>\n",
       "      <td>61.0</td>\n",
       "      <td>682</td>\n",
       "      <td>4.29</td>\n",
       "      <td>4.32</td>\n",
       "      <td>2.63</td>\n",
       "    </tr>\n",
       "    <tr>\n",
       "      <th>1</th>\n",
       "      <td>0.72</td>\n",
       "      <td>Ideal</td>\n",
       "      <td>H</td>\n",
       "      <td>62.0</td>\n",
       "      <td>56.0</td>\n",
       "      <td>2443</td>\n",
       "      <td>5.80</td>\n",
       "      <td>5.74</td>\n",
       "      <td>3.58</td>\n",
       "    </tr>\n",
       "    <tr>\n",
       "      <th>2</th>\n",
       "      <td>1.71</td>\n",
       "      <td>Premium</td>\n",
       "      <td>J</td>\n",
       "      <td>62.9</td>\n",
       "      <td>58.0</td>\n",
       "      <td>8848</td>\n",
       "      <td>7.64</td>\n",
       "      <td>7.58</td>\n",
       "      <td>4.79</td>\n",
       "    </tr>\n",
       "    <tr>\n",
       "      <th>3</th>\n",
       "      <td>1.01</td>\n",
       "      <td>Premium</td>\n",
       "      <td>E</td>\n",
       "      <td>59.2</td>\n",
       "      <td>59.0</td>\n",
       "      <td>7287</td>\n",
       "      <td>6.67</td>\n",
       "      <td>6.60</td>\n",
       "      <td>3.93</td>\n",
       "    </tr>\n",
       "    <tr>\n",
       "      <th>4</th>\n",
       "      <td>0.52</td>\n",
       "      <td>Ideal</td>\n",
       "      <td>D</td>\n",
       "      <td>62.7</td>\n",
       "      <td>56.0</td>\n",
       "      <td>1720</td>\n",
       "      <td>5.17</td>\n",
       "      <td>5.14</td>\n",
       "      <td>3.23</td>\n",
       "    </tr>\n",
       "  </tbody>\n",
       "</table>\n",
       "</div>"
      ],
      "text/plain": [
       "   carat      cut color  depth  table  price     x     y     z\n",
       "0   0.30     Good     F   61.1   61.0    682  4.29  4.32  2.63\n",
       "1   0.72    Ideal     H   62.0   56.0   2443  5.80  5.74  3.58\n",
       "2   1.71  Premium     J   62.9   58.0   8848  7.64  7.58  4.79\n",
       "3   1.01  Premium     E   59.2   59.0   7287  6.67  6.60  3.93\n",
       "4   0.52    Ideal     D   62.7   56.0   1720  5.17  5.14  3.23"
      ]
     },
     "execution_count": 3,
     "metadata": {},
     "output_type": "execute_result"
    }
   ],
   "source": [
    "df.head()"
   ]
  },
  {
   "cell_type": "code",
   "execution_count": 4,
   "metadata": {
    "colab": {
     "base_uri": "https://localhost:8080/"
    },
    "executionInfo": {
     "elapsed": 1065,
     "status": "ok",
     "timestamp": 1615958491866,
     "user": {
      "displayName": "vijaya bharathi paari",
      "photoUrl": "https://lh3.googleusercontent.com/a-/AOh14GgjhVrsY1cio12_7TS87bdYXqQu9_4C62ofGBjk=s64",
      "userId": "10977904578585558766"
     },
     "user_tz": -330
    },
    "id": "EZwFga9soaVl",
    "outputId": "3bbb2bf0-d8cf-4649-eecf-63d262c31b19"
   },
   "outputs": [
    {
     "data": {
      "text/plain": [
       "(1547, 9)"
      ]
     },
     "execution_count": 4,
     "metadata": {},
     "output_type": "execute_result"
    }
   ],
   "source": [
    "df.shape"
   ]
  },
  {
   "cell_type": "code",
   "execution_count": 5,
   "metadata": {
    "colab": {
     "base_uri": "https://localhost:8080/"
    },
    "executionInfo": {
     "elapsed": 1124,
     "status": "ok",
     "timestamp": 1615958502510,
     "user": {
      "displayName": "vijaya bharathi paari",
      "photoUrl": "https://lh3.googleusercontent.com/a-/AOh14GgjhVrsY1cio12_7TS87bdYXqQu9_4C62ofGBjk=s64",
      "userId": "10977904578585558766"
     },
     "user_tz": -330
    },
    "id": "8U7Uzo_xocs2",
    "outputId": "9d5d875a-8e6f-4888-8849-a7204ab8928e"
   },
   "outputs": [
    {
     "name": "stdout",
     "output_type": "stream",
     "text": [
      "<class 'pandas.core.frame.DataFrame'>\n",
      "RangeIndex: 1547 entries, 0 to 1546\n",
      "Data columns (total 9 columns):\n",
      " #   Column  Non-Null Count  Dtype  \n",
      "---  ------  --------------  -----  \n",
      " 0   carat   1547 non-null   float64\n",
      " 1   cut     1547 non-null   object \n",
      " 2   color   1547 non-null   object \n",
      " 3   depth   1547 non-null   float64\n",
      " 4   table   1547 non-null   float64\n",
      " 5   price   1547 non-null   int64  \n",
      " 6   x       1547 non-null   float64\n",
      " 7   y       1547 non-null   float64\n",
      " 8   z       1547 non-null   float64\n",
      "dtypes: float64(6), int64(1), object(2)\n",
      "memory usage: 108.9+ KB\n"
     ]
    }
   ],
   "source": [
    "df.info()"
   ]
  },
  {
   "cell_type": "code",
   "execution_count": 6,
   "metadata": {
    "colab": {
     "base_uri": "https://localhost:8080/"
    },
    "executionInfo": {
     "elapsed": 1176,
     "status": "ok",
     "timestamp": 1615959392698,
     "user": {
      "displayName": "vijaya bharathi paari",
      "photoUrl": "https://lh3.googleusercontent.com/a-/AOh14GgjhVrsY1cio12_7TS87bdYXqQu9_4C62ofGBjk=s64",
      "userId": "10977904578585558766"
     },
     "user_tz": -330
    },
    "id": "dEcv1Y2xrz2K",
    "outputId": "317abf61-8b8d-4fa8-ee87-f9fd5656cdf5"
   },
   "outputs": [
    {
     "data": {
      "text/plain": [
       "0"
      ]
     },
     "execution_count": 6,
     "metadata": {},
     "output_type": "execute_result"
    }
   ],
   "source": [
    "df.isnull().sum().sum()"
   ]
  },
  {
   "cell_type": "code",
   "execution_count": 7,
   "metadata": {
    "colab": {
     "base_uri": "https://localhost:8080/",
     "height": 284
    },
    "executionInfo": {
     "elapsed": 1128,
     "status": "ok",
     "timestamp": 1615958515224,
     "user": {
      "displayName": "vijaya bharathi paari",
      "photoUrl": "https://lh3.googleusercontent.com/a-/AOh14GgjhVrsY1cio12_7TS87bdYXqQu9_4C62ofGBjk=s64",
      "userId": "10977904578585558766"
     },
     "user_tz": -330
    },
    "id": "hVa29GK4ofdb",
    "outputId": "29eb9bab-2a36-4b8d-d16e-d3fcbc44e1c3"
   },
   "outputs": [
    {
     "data": {
      "text/html": [
       "<div>\n",
       "<style scoped>\n",
       "    .dataframe tbody tr th:only-of-type {\n",
       "        vertical-align: middle;\n",
       "    }\n",
       "\n",
       "    .dataframe tbody tr th {\n",
       "        vertical-align: top;\n",
       "    }\n",
       "\n",
       "    .dataframe thead th {\n",
       "        text-align: right;\n",
       "    }\n",
       "</style>\n",
       "<table border=\"1\" class=\"dataframe\">\n",
       "  <thead>\n",
       "    <tr style=\"text-align: right;\">\n",
       "      <th></th>\n",
       "      <th>carat</th>\n",
       "      <th>depth</th>\n",
       "      <th>table</th>\n",
       "      <th>price</th>\n",
       "      <th>x</th>\n",
       "      <th>y</th>\n",
       "      <th>z</th>\n",
       "    </tr>\n",
       "  </thead>\n",
       "  <tbody>\n",
       "    <tr>\n",
       "      <th>count</th>\n",
       "      <td>1547.000000</td>\n",
       "      <td>1547.000000</td>\n",
       "      <td>1547.000000</td>\n",
       "      <td>1547.000000</td>\n",
       "      <td>1547.000000</td>\n",
       "      <td>1547.000000</td>\n",
       "      <td>1547.000000</td>\n",
       "    </tr>\n",
       "    <tr>\n",
       "      <th>mean</th>\n",
       "      <td>0.791325</td>\n",
       "      <td>61.762185</td>\n",
       "      <td>57.445184</td>\n",
       "      <td>3938.685844</td>\n",
       "      <td>5.713594</td>\n",
       "      <td>5.714460</td>\n",
       "      <td>3.528203</td>\n",
       "    </tr>\n",
       "    <tr>\n",
       "      <th>std</th>\n",
       "      <td>0.475814</td>\n",
       "      <td>1.439904</td>\n",
       "      <td>2.235772</td>\n",
       "      <td>4117.039798</td>\n",
       "      <td>1.126730</td>\n",
       "      <td>1.116477</td>\n",
       "      <td>0.693149</td>\n",
       "    </tr>\n",
       "    <tr>\n",
       "      <th>min</th>\n",
       "      <td>0.230000</td>\n",
       "      <td>54.600000</td>\n",
       "      <td>52.000000</td>\n",
       "      <td>327.000000</td>\n",
       "      <td>3.860000</td>\n",
       "      <td>3.880000</td>\n",
       "      <td>2.310000</td>\n",
       "    </tr>\n",
       "    <tr>\n",
       "      <th>25%</th>\n",
       "      <td>0.400000</td>\n",
       "      <td>61.100000</td>\n",
       "      <td>56.000000</td>\n",
       "      <td>918.000000</td>\n",
       "      <td>4.705000</td>\n",
       "      <td>4.720000</td>\n",
       "      <td>2.910000</td>\n",
       "    </tr>\n",
       "    <tr>\n",
       "      <th>50%</th>\n",
       "      <td>0.700000</td>\n",
       "      <td>61.900000</td>\n",
       "      <td>57.000000</td>\n",
       "      <td>2301.000000</td>\n",
       "      <td>5.640000</td>\n",
       "      <td>5.660000</td>\n",
       "      <td>3.500000</td>\n",
       "    </tr>\n",
       "    <tr>\n",
       "      <th>75%</th>\n",
       "      <td>1.035000</td>\n",
       "      <td>62.500000</td>\n",
       "      <td>59.000000</td>\n",
       "      <td>5188.000000</td>\n",
       "      <td>6.535000</td>\n",
       "      <td>6.520000</td>\n",
       "      <td>4.030000</td>\n",
       "    </tr>\n",
       "    <tr>\n",
       "      <th>max</th>\n",
       "      <td>2.660000</td>\n",
       "      <td>71.800000</td>\n",
       "      <td>70.000000</td>\n",
       "      <td>18803.000000</td>\n",
       "      <td>9.080000</td>\n",
       "      <td>9.010000</td>\n",
       "      <td>5.540000</td>\n",
       "    </tr>\n",
       "  </tbody>\n",
       "</table>\n",
       "</div>"
      ],
      "text/plain": [
       "             carat        depth        table         price            x  \\\n",
       "count  1547.000000  1547.000000  1547.000000   1547.000000  1547.000000   \n",
       "mean      0.791325    61.762185    57.445184   3938.685844     5.713594   \n",
       "std       0.475814     1.439904     2.235772   4117.039798     1.126730   \n",
       "min       0.230000    54.600000    52.000000    327.000000     3.860000   \n",
       "25%       0.400000    61.100000    56.000000    918.000000     4.705000   \n",
       "50%       0.700000    61.900000    57.000000   2301.000000     5.640000   \n",
       "75%       1.035000    62.500000    59.000000   5188.000000     6.535000   \n",
       "max       2.660000    71.800000    70.000000  18803.000000     9.080000   \n",
       "\n",
       "                 y            z  \n",
       "count  1547.000000  1547.000000  \n",
       "mean      5.714460     3.528203  \n",
       "std       1.116477     0.693149  \n",
       "min       3.880000     2.310000  \n",
       "25%       4.720000     2.910000  \n",
       "50%       5.660000     3.500000  \n",
       "75%       6.520000     4.030000  \n",
       "max       9.010000     5.540000  "
      ]
     },
     "execution_count": 7,
     "metadata": {},
     "output_type": "execute_result"
    }
   ],
   "source": [
    "df.describe()"
   ]
  },
  {
   "cell_type": "code",
   "execution_count": 8,
   "metadata": {
    "colab": {
     "base_uri": "https://localhost:8080/",
     "height": 195
    },
    "executionInfo": {
     "elapsed": 769,
     "status": "ok",
     "timestamp": 1615958415155,
     "user": {
      "displayName": "vijaya bharathi paari",
      "photoUrl": "https://lh3.googleusercontent.com/a-/AOh14GgjhVrsY1cio12_7TS87bdYXqQu9_4C62ofGBjk=s64",
      "userId": "10977904578585558766"
     },
     "user_tz": -330
    },
    "id": "xaHl1A1QoCOh",
    "outputId": "b3c68dc3-92f0-4f1b-a3a2-b49ccbac7276"
   },
   "outputs": [
    {
     "data": {
      "text/html": [
       "<div>\n",
       "<style scoped>\n",
       "    .dataframe tbody tr th:only-of-type {\n",
       "        vertical-align: middle;\n",
       "    }\n",
       "\n",
       "    .dataframe tbody tr th {\n",
       "        vertical-align: top;\n",
       "    }\n",
       "\n",
       "    .dataframe thead th {\n",
       "        text-align: right;\n",
       "    }\n",
       "</style>\n",
       "<table border=\"1\" class=\"dataframe\">\n",
       "  <thead>\n",
       "    <tr style=\"text-align: right;\">\n",
       "      <th></th>\n",
       "      <th>carat</th>\n",
       "      <th>cut</th>\n",
       "      <th>color</th>\n",
       "      <th>depth</th>\n",
       "      <th>table</th>\n",
       "      <th>price</th>\n",
       "      <th>x</th>\n",
       "      <th>y</th>\n",
       "      <th>z</th>\n",
       "    </tr>\n",
       "  </thead>\n",
       "  <tbody>\n",
       "    <tr>\n",
       "      <th>0</th>\n",
       "      <td>0.30</td>\n",
       "      <td>Good</td>\n",
       "      <td>F</td>\n",
       "      <td>61.1</td>\n",
       "      <td>61.0</td>\n",
       "      <td>682</td>\n",
       "      <td>4.29</td>\n",
       "      <td>4.32</td>\n",
       "      <td>2.63</td>\n",
       "    </tr>\n",
       "    <tr>\n",
       "      <th>1</th>\n",
       "      <td>0.72</td>\n",
       "      <td>Ideal</td>\n",
       "      <td>H</td>\n",
       "      <td>62.0</td>\n",
       "      <td>56.0</td>\n",
       "      <td>2443</td>\n",
       "      <td>5.80</td>\n",
       "      <td>5.74</td>\n",
       "      <td>3.58</td>\n",
       "    </tr>\n",
       "    <tr>\n",
       "      <th>2</th>\n",
       "      <td>1.71</td>\n",
       "      <td>Premium</td>\n",
       "      <td>J</td>\n",
       "      <td>62.9</td>\n",
       "      <td>58.0</td>\n",
       "      <td>8848</td>\n",
       "      <td>7.64</td>\n",
       "      <td>7.58</td>\n",
       "      <td>4.79</td>\n",
       "    </tr>\n",
       "    <tr>\n",
       "      <th>3</th>\n",
       "      <td>1.01</td>\n",
       "      <td>Premium</td>\n",
       "      <td>E</td>\n",
       "      <td>59.2</td>\n",
       "      <td>59.0</td>\n",
       "      <td>7287</td>\n",
       "      <td>6.67</td>\n",
       "      <td>6.60</td>\n",
       "      <td>3.93</td>\n",
       "    </tr>\n",
       "    <tr>\n",
       "      <th>4</th>\n",
       "      <td>0.52</td>\n",
       "      <td>Ideal</td>\n",
       "      <td>D</td>\n",
       "      <td>62.7</td>\n",
       "      <td>56.0</td>\n",
       "      <td>1720</td>\n",
       "      <td>5.17</td>\n",
       "      <td>5.14</td>\n",
       "      <td>3.23</td>\n",
       "    </tr>\n",
       "  </tbody>\n",
       "</table>\n",
       "</div>"
      ],
      "text/plain": [
       "   carat      cut color  depth  table  price     x     y     z\n",
       "0   0.30     Good     F   61.1   61.0    682  4.29  4.32  2.63\n",
       "1   0.72    Ideal     H   62.0   56.0   2443  5.80  5.74  3.58\n",
       "2   1.71  Premium     J   62.9   58.0   8848  7.64  7.58  4.79\n",
       "3   1.01  Premium     E   59.2   59.0   7287  6.67  6.60  3.93\n",
       "4   0.52    Ideal     D   62.7   56.0   1720  5.17  5.14  3.23"
      ]
     },
     "execution_count": 8,
     "metadata": {},
     "output_type": "execute_result"
    }
   ],
   "source": [
    "df.head()"
   ]
  },
  {
   "cell_type": "code",
   "execution_count": 9,
   "metadata": {
    "colab": {
     "base_uri": "https://localhost:8080/"
    },
    "executionInfo": {
     "elapsed": 1141,
     "status": "ok",
     "timestamp": 1615958460029,
     "user": {
      "displayName": "vijaya bharathi paari",
      "photoUrl": "https://lh3.googleusercontent.com/a-/AOh14GgjhVrsY1cio12_7TS87bdYXqQu9_4C62ofGBjk=s64",
      "userId": "10977904578585558766"
     },
     "user_tz": -330
    },
    "id": "c5uaiapnoJEk",
    "outputId": "b80d43e2-15fb-411b-b08a-2742b1305015"
   },
   "outputs": [
    {
     "data": {
      "text/plain": [
       "Ideal        611\n",
       "Premium      389\n",
       "Very Good    358\n",
       "Good         148\n",
       "Fair          41\n",
       "Name: cut, dtype: int64"
      ]
     },
     "execution_count": 9,
     "metadata": {},
     "output_type": "execute_result"
    }
   ],
   "source": [
    "df[\"cut\"].value_counts()"
   ]
  },
  {
   "cell_type": "code",
   "execution_count": 10,
   "metadata": {
    "colab": {
     "base_uri": "https://localhost:8080/"
    },
    "executionInfo": {
     "elapsed": 671,
     "status": "ok",
     "timestamp": 1615958476366,
     "user": {
      "displayName": "vijaya bharathi paari",
      "photoUrl": "https://lh3.googleusercontent.com/a-/AOh14GgjhVrsY1cio12_7TS87bdYXqQu9_4C62ofGBjk=s64",
      "userId": "10977904578585558766"
     },
     "user_tz": -330
    },
    "id": "xpd88uguoT_T",
    "outputId": "d4e5f0e4-46e1-400d-fe92-1091c1995399"
   },
   "outputs": [
    {
     "data": {
      "text/plain": [
       "G    317\n",
       "E    281\n",
       "F    274\n",
       "H    244\n",
       "D    206\n",
       "I    141\n",
       "J     84\n",
       "Name: color, dtype: int64"
      ]
     },
     "execution_count": 10,
     "metadata": {},
     "output_type": "execute_result"
    }
   ],
   "source": [
    "df[\"color\"].value_counts()"
   ]
  },
  {
   "cell_type": "markdown",
   "metadata": {
    "id": "5BrquGLdtp7O"
   },
   "source": [
    "Numerical and categorical columns:"
   ]
  },
  {
   "cell_type": "code",
   "execution_count": 11,
   "metadata": {
    "executionInfo": {
     "elapsed": 1310,
     "status": "ok",
     "timestamp": 1615959919911,
     "user": {
      "displayName": "vijaya bharathi paari",
      "photoUrl": "https://lh3.googleusercontent.com/a-/AOh14GgjhVrsY1cio12_7TS87bdYXqQu9_4C62ofGBjk=s64",
      "userId": "10977904578585558766"
     },
     "user_tz": -330
    },
    "id": "mEvh3UYRttn8"
   },
   "outputs": [],
   "source": [
    "num_col = df.select_dtypes(include=np.number).columns\n",
    "cat_col = df.select_dtypes(exclude=np.number).columns"
   ]
  },
  {
   "cell_type": "markdown",
   "metadata": {
    "id": "Ckm_WTsBpr3h"
   },
   "source": [
    "**Box Plot to check Outliers**"
   ]
  },
  {
   "cell_type": "code",
   "execution_count": 12,
   "metadata": {
    "colab": {
     "base_uri": "https://localhost:8080/",
     "height": 1000
    },
    "executionInfo": {
     "elapsed": 2789,
     "status": "ok",
     "timestamp": 1615958625582,
     "user": {
      "displayName": "vijaya bharathi paari",
      "photoUrl": "https://lh3.googleusercontent.com/a-/AOh14GgjhVrsY1cio12_7TS87bdYXqQu9_4C62ofGBjk=s64",
      "userId": "10977904578585558766"
     },
     "user_tz": -330
    },
    "id": "rW8ewe5ooYDr",
    "outputId": "5dbdbe59-495c-4cd8-8e68-c29f75cc679d",
    "scrolled": false
   },
   "outputs": [
    {
     "data": {
      "image/png": "[encoded data removed]",
      "text/plain": [
       "<Figure size 432x288 with 1 Axes>"
      ]
     },
     "metadata": {
      "needs_background": "light"
     },
     "output_type": "display_data"
    },
    {
     "data": {
      "image/png": "[encoded data removed]",
      "text/plain": [
       "<Figure size 432x288 with 1 Axes>"
      ]
     },
     "metadata": {
      "needs_background": "light"
     },
     "output_type": "display_data"
    },
    {
     "data": {
      "image/png": "[encoded data removed]",
      "text/plain": [
       "<Figure size 432x288 with 1 Axes>"
      ]
     },
     "metadata": {
      "needs_background": "light"
     },
     "output_type": "display_data"
    },
    {
     "data": {
      "image/png": "[encoded data removed]",
      "text/plain": [
       "<Figure size 432x288 with 1 Axes>"
      ]
     },
     "metadata": {
      "needs_background": "light"
     },
     "output_type": "display_data"
    },
    {
     "data": {
      "image/png": "[encoded data removed]",
      "text/plain": [
       "<Figure size 432x288 with 1 Axes>"
      ]
     },
     "metadata": {
      "needs_background": "light"
     },
     "output_type": "display_data"
    },
    {
     "data": {
      "image/png": "[encoded data removed]",
      "text/plain": [
       "<Figure size 432x288 with 1 Axes>"
      ]
     },
     "metadata": {
      "needs_background": "light"
     },
     "output_type": "display_data"
    },
    {
     "data": {
      "image/png": "[encoded data removed]",
      "text/plain": [
       "<Figure size 432x288 with 1 Axes>"
      ]
     },
     "metadata": {
      "needs_background": "light"
     },
     "output_type": "display_data"
    }
   ],
   "source": [
    "for i in df.select_dtypes(include=np.number).columns:\n",
    "    df[i].plot(kind=\"box\")\n",
    "    plt.show()"
   ]
  },
  {
   "cell_type": "markdown",
   "metadata": {
    "id": "WSqTxiDepDJo"
   },
   "source": [
    "* Outliers are present in carat,depth,table,price columns\n",
    "* We can handle outliers using Power transform"
   ]
  },
  {
   "cell_type": "markdown",
   "metadata": {
    "id": "LNLNwwqPpoIB"
   },
   "source": [
    "**Pie chat for categorical variables:**\n"
   ]
  },
  {
   "cell_type": "code",
   "execution_count": 13,
   "metadata": {
    "colab": {
     "base_uri": "https://localhost:8080/",
     "height": 479
    },
    "executionInfo": {
     "elapsed": 1370,
     "status": "ok",
     "timestamp": 1615959246322,
     "user": {
      "displayName": "vijaya bharathi paari",
      "photoUrl": "https://lh3.googleusercontent.com/a-/AOh14GgjhVrsY1cio12_7TS87bdYXqQu9_4C62ofGBjk=s64",
      "userId": "10977904578585558766"
     },
     "user_tz": -330
    },
    "id": "uLcXfxxao0zQ",
    "outputId": "93d58157-964d-424e-9e6f-b98428af543a"
   },
   "outputs": [
    {
     "data": {
      "image/png": "[encoded data removed]",
      "text/plain": [
       "<Figure size 432x288 with 1 Axes>"
      ]
     },
     "metadata": {},
     "output_type": "display_data"
    },
    {
     "data": {
      "image/png": "[encoded data removed]",
      "text/plain": [
       "<Figure size 432x288 with 1 Axes>"
      ]
     },
     "metadata": {},
     "output_type": "display_data"
    }
   ],
   "source": [
    "for i in [\"cut\",\"color\"]:\n",
    "    df[i].value_counts().plot(kind=\"pie\",autopct=\"%.2f%%\")\n",
    "    plt.show()"
   ]
  },
  {
   "cell_type": "markdown",
   "metadata": {
    "id": "zLCye0Ptsh8u"
   },
   "source": [
    "**Train_Test_Split and Preprocessing**"
   ]
  },
  {
   "cell_type": "code",
   "execution_count": 14,
   "metadata": {},
   "outputs": [],
   "source": [
    "from sklearn.model_selection import train_test_split\n",
    "from sklearn.preprocessing import PowerTransformer"
   ]
  },
  {
   "cell_type": "code",
   "execution_count": 15,
   "metadata": {
    "executionInfo": {
     "elapsed": 2350,
     "status": "ok",
     "timestamp": 1615960075169,
     "user": {
      "displayName": "vijaya bharathi paari",
      "photoUrl": "https://lh3.googleusercontent.com/a-/AOh14GgjhVrsY1cio12_7TS87bdYXqQu9_4C62ofGBjk=s64",
      "userId": "10977904578585558766"
     },
     "user_tz": -330
    },
    "id": "YcwOBRZ0shCr"
   },
   "outputs": [],
   "source": [
    "final_df = pd.get_dummies(df,drop_first=True)\n",
    "inp = final_df.drop(\"price\",axis=1)\n",
    "out = final_df[\"price\"]"
   ]
  },
  {
   "cell_type": "code",
   "execution_count": 16,
   "metadata": {
    "executionInfo": {
     "elapsed": 1550,
     "status": "ok",
     "timestamp": 1615960644550,
     "user": {
      "displayName": "vijaya bharathi paari",
      "photoUrl": "https://lh3.googleusercontent.com/a-/AOh14GgjhVrsY1cio12_7TS87bdYXqQu9_4C62ofGBjk=s64",
      "userId": "10977904578585558766"
     },
     "user_tz": -330
    },
    "id": "OxJ8E0R4ue2X"
   },
   "outputs": [],
   "source": [
    "xtrain,xtest,ytrain,ytest = train_test_split(inp,out,test_size=0.2,random_state=0)\n",
    "\n",
    "pf = PowerTransformer()\n",
    "xtrain_pf = pd.DataFrame(pf.fit_transform(xtrain),columns=xtrain.columns,index=xtrain.index)\n",
    "xtest_pf = pd.DataFrame(pf.transform(xtest),columns=xtest.columns,index=xtest.index)"
   ]
  },
  {
   "cell_type": "markdown",
   "metadata": {
    "id": "83P3NrgOyOsa"
   },
   "source": [
    "**Base model:**"
   ]
  },
  {
   "cell_type": "code",
   "execution_count": 17,
   "metadata": {
    "executionInfo": {
     "elapsed": 3523,
     "status": "ok",
     "timestamp": 1615961091651,
     "user": {
      "displayName": "vijaya bharathi paari",
      "photoUrl": "https://lh3.googleusercontent.com/a-/AOh14GgjhVrsY1cio12_7TS87bdYXqQu9_4C62ofGBjk=s64",
      "userId": "10977904578585558766"
     },
     "user_tz": -330
    },
    "id": "iF6277KkxAkG"
   },
   "outputs": [],
   "source": [
    "import statsmodels.api as sm"
   ]
  },
  {
   "cell_type": "code",
   "execution_count": 18,
   "metadata": {
    "colab": {
     "base_uri": "https://localhost:8080/",
     "height": 726
    },
    "executionInfo": {
     "elapsed": 1799,
     "status": "ok",
     "timestamp": 1615961039442,
     "user": {
      "displayName": "vijaya bharathi paari",
      "photoUrl": "https://lh3.googleusercontent.com/a-/AOh14GgjhVrsY1cio12_7TS87bdYXqQu9_4C62ofGBjk=s64",
      "userId": "10977904578585558766"
     },
     "user_tz": -330
    },
    "id": "349cbx-NxO_D",
    "outputId": "399d4ecb-095e-47af-b9b7-16004feef77d"
   },
   "outputs": [
    {
     "data": {
      "text/html": [
       "<table class=\"simpletable\">\n",
       "<caption>OLS Regression Results</caption>\n",
       "<tr>\n",
       "  <th>Dep. Variable:</th>          <td>price</td>      <th>  R-squared:         </th> <td>   0.783</td> \n",
       "</tr>\n",
       "<tr>\n",
       "  <th>Model:</th>                   <td>OLS</td>       <th>  Adj. R-squared:    </th> <td>   0.780</td> \n",
       "</tr>\n",
       "<tr>\n",
       "  <th>Method:</th>             <td>Least Squares</td>  <th>  F-statistic:       </th> <td>   275.2</td> \n",
       "</tr>\n",
       "<tr>\n",
       "  <th>Date:</th>             <td>Mon, 19 Apr 2021</td> <th>  Prob (F-statistic):</th>  <td>  0.00</td>  \n",
       "</tr>\n",
       "<tr>\n",
       "  <th>Time:</th>                 <td>12:53:40</td>     <th>  Log-Likelihood:    </th> <td> -11089.</td> \n",
       "</tr>\n",
       "<tr>\n",
       "  <th>No. Observations:</th>      <td>  1237</td>      <th>  AIC:               </th> <td>2.221e+04</td>\n",
       "</tr>\n",
       "<tr>\n",
       "  <th>Df Residuals:</th>          <td>  1220</td>      <th>  BIC:               </th> <td>2.230e+04</td>\n",
       "</tr>\n",
       "<tr>\n",
       "  <th>Df Model:</th>              <td>    16</td>      <th>                     </th>     <td> </td>    \n",
       "</tr>\n",
       "<tr>\n",
       "  <th>Covariance Type:</th>      <td>nonrobust</td>    <th>                     </th>     <td> </td>    \n",
       "</tr>\n",
       "</table>\n",
       "<table class=\"simpletable\">\n",
       "<tr>\n",
       "        <td></td>           <th>coef</th>     <th>std err</th>      <th>t</th>      <th>P>|t|</th>  <th>[0.025</th>    <th>0.975]</th>  \n",
       "</tr>\n",
       "<tr>\n",
       "  <th>const</th>         <td> 3898.4584</td> <td>   54.163</td> <td>   71.976</td> <td> 0.000</td> <td> 3792.195</td> <td> 4004.722</td>\n",
       "</tr>\n",
       "<tr>\n",
       "  <th>carat</th>         <td> 1.985e+04</td> <td> 1118.131</td> <td>   17.751</td> <td> 0.000</td> <td> 1.77e+04</td> <td>  2.2e+04</td>\n",
       "</tr>\n",
       "<tr>\n",
       "  <th>depth</th>         <td>-1749.9287</td> <td>  549.647</td> <td>   -3.184</td> <td> 0.001</td> <td>-2828.287</td> <td> -671.570</td>\n",
       "</tr>\n",
       "<tr>\n",
       "  <th>table</th>         <td> -402.5214</td> <td>   73.181</td> <td>   -5.500</td> <td> 0.000</td> <td> -546.096</td> <td> -258.947</td>\n",
       "</tr>\n",
       "<tr>\n",
       "  <th>x</th>             <td>-1.411e+04</td> <td> 2687.498</td> <td>   -5.250</td> <td> 0.000</td> <td>-1.94e+04</td> <td>-8837.940</td>\n",
       "</tr>\n",
       "<tr>\n",
       "  <th>y</th>             <td>-8771.2558</td> <td> 2599.964</td> <td>   -3.374</td> <td> 0.001</td> <td>-1.39e+04</td> <td>-3670.360</td>\n",
       "</tr>\n",
       "<tr>\n",
       "  <th>z</th>             <td> 6654.2278</td> <td> 4741.432</td> <td>    1.403</td> <td> 0.161</td> <td>-2648.036</td> <td>  1.6e+04</td>\n",
       "</tr>\n",
       "<tr>\n",
       "  <th>cut_Good</th>      <td>   27.2899</td> <td>  120.429</td> <td>    0.227</td> <td> 0.821</td> <td> -208.981</td> <td>  263.561</td>\n",
       "</tr>\n",
       "<tr>\n",
       "  <th>cut_Ideal</th>     <td>  210.3725</td> <td>  197.579</td> <td>    1.065</td> <td> 0.287</td> <td> -177.259</td> <td>  598.004</td>\n",
       "</tr>\n",
       "<tr>\n",
       "  <th>cut_Premium</th>   <td>  127.7144</td> <td>  171.441</td> <td>    0.745</td> <td> 0.456</td> <td> -208.637</td> <td>  464.065</td>\n",
       "</tr>\n",
       "<tr>\n",
       "  <th>cut_Very Good</th> <td>  109.1606</td> <td>  168.110</td> <td>    0.649</td> <td> 0.516</td> <td> -220.657</td> <td>  438.978</td>\n",
       "</tr>\n",
       "<tr>\n",
       "  <th>color_E</th>       <td>    8.8836</td> <td>   75.124</td> <td>    0.118</td> <td> 0.906</td> <td> -138.503</td> <td>  156.270</td>\n",
       "</tr>\n",
       "<tr>\n",
       "  <th>color_F</th>       <td>  102.7639</td> <td>   75.434</td> <td>    1.362</td> <td> 0.173</td> <td>  -45.231</td> <td>  250.759</td>\n",
       "</tr>\n",
       "<tr>\n",
       "  <th>color_G</th>       <td>   32.5738</td> <td>   77.092</td> <td>    0.423</td> <td> 0.673</td> <td> -118.674</td> <td>  183.822</td>\n",
       "</tr>\n",
       "<tr>\n",
       "  <th>color_H</th>       <td> -114.3512</td> <td>   74.015</td> <td>   -1.545</td> <td> 0.123</td> <td> -259.562</td> <td>   30.859</td>\n",
       "</tr>\n",
       "<tr>\n",
       "  <th>color_I</th>       <td> -118.7698</td> <td>   67.427</td> <td>   -1.761</td> <td> 0.078</td> <td> -251.056</td> <td>   13.516</td>\n",
       "</tr>\n",
       "<tr>\n",
       "  <th>color_J</th>       <td> -259.2809</td> <td>   63.384</td> <td>   -4.091</td> <td> 0.000</td> <td> -383.634</td> <td> -134.927</td>\n",
       "</tr>\n",
       "</table>\n",
       "<table class=\"simpletable\">\n",
       "<tr>\n",
       "  <th>Omnibus:</th>       <td>329.615</td> <th>  Durbin-Watson:     </th> <td>   2.029</td> \n",
       "</tr>\n",
       "<tr>\n",
       "  <th>Prob(Omnibus):</th> <td> 0.000</td>  <th>  Jarque-Bera (JB):  </th> <td>1057.511</td> \n",
       "</tr>\n",
       "<tr>\n",
       "  <th>Skew:</th>          <td> 1.304</td>  <th>  Prob(JB):          </th> <td>2.31e-230</td>\n",
       "</tr>\n",
       "<tr>\n",
       "  <th>Kurtosis:</th>      <td> 6.704</td>  <th>  Cond. No.          </th> <td>    219.</td> \n",
       "</tr>\n",
       "</table><br/><br/>Warnings:<br/>[1] Standard Errors assume that the covariance matrix of the errors is correctly specified."
      ],
      "text/plain": [
       "<class 'statsmodels.iolib.summary.Summary'>\n",
       "\"\"\"\n",
       "                            OLS Regression Results                            \n",
       "==============================================================================\n",
       "Dep. Variable:                  price   R-squared:                       0.783\n",
       "Model:                            OLS   Adj. R-squared:                  0.780\n",
       "Method:                 Least Squares   F-statistic:                     275.2\n",
       "Date:                Mon, 19 Apr 2021   Prob (F-statistic):               0.00\n",
       "Time:                        12:53:40   Log-Likelihood:                -11089.\n",
       "No. Observations:                1237   AIC:                         2.221e+04\n",
       "Df Residuals:                    1220   BIC:                         2.230e+04\n",
       "Df Model:                          16                                         \n",
       "Covariance Type:            nonrobust                                         \n",
       "=================================================================================\n",
       "                    coef    std err          t      P>|t|      [0.025      0.975]\n",
       "---------------------------------------------------------------------------------\n",
       "const          3898.4584     54.163     71.976      0.000    3792.195    4004.722\n",
       "carat          1.985e+04   1118.131     17.751      0.000    1.77e+04     2.2e+04\n",
       "depth         -1749.9287    549.647     -3.184      0.001   -2828.287    -671.570\n",
       "table          -402.5214     73.181     -5.500      0.000    -546.096    -258.947\n",
       "x             -1.411e+04   2687.498     -5.250      0.000   -1.94e+04   -8837.940\n",
       "y             -8771.2558   2599.964     -3.374      0.001   -1.39e+04   -3670.360\n",
       "z              6654.2278   4741.432      1.403      0.161   -2648.036     1.6e+04\n",
       "cut_Good         27.2899    120.429      0.227      0.821    -208.981     263.561\n",
       "cut_Ideal       210.3725    197.579      1.065      0.287    -177.259     598.004\n",
       "cut_Premium     127.7144    171.441      0.745      0.456    -208.637     464.065\n",
       "cut_Very Good   109.1606    168.110      0.649      0.516    -220.657     438.978\n",
       "color_E           8.8836     75.124      0.118      0.906    -138.503     156.270\n",
       "color_F         102.7639     75.434      1.362      0.173     -45.231     250.759\n",
       "color_G          32.5738     77.092      0.423      0.673    -118.674     183.822\n",
       "color_H        -114.3512     74.015     -1.545      0.123    -259.562      30.859\n",
       "color_I        -118.7698     67.427     -1.761      0.078    -251.056      13.516\n",
       "color_J        -259.2809     63.384     -4.091      0.000    -383.634    -134.927\n",
       "==============================================================================\n",
       "Omnibus:                      329.615   Durbin-Watson:                   2.029\n",
       "Prob(Omnibus):                  0.000   Jarque-Bera (JB):             1057.511\n",
       "Skew:                           1.304   Prob(JB):                    2.31e-230\n",
       "Kurtosis:                       6.704   Cond. No.                         219.\n",
       "==============================================================================\n",
       "\n",
       "Warnings:\n",
       "[1] Standard Errors assume that the covariance matrix of the errors is correctly specified.\n",
       "\"\"\""
      ]
     },
     "execution_count": 18,
     "metadata": {},
     "output_type": "execute_result"
    }
   ],
   "source": [
    "xtrain_pf_con = sm.add_constant(xtrain_pf)\n",
    "ols = sm.OLS(ytrain,xtrain_pf_con)\n",
    "ols_mod = ols.fit()\n",
    "ols_mod.summary()"
   ]
  },
  {
   "cell_type": "markdown",
   "metadata": {
    "id": "dvfhE6mNrd0q"
   },
   "source": [
    "**Assumption:**"
   ]
  },
  {
   "cell_type": "markdown",
   "metadata": {
    "id": "bYZMZl0trk20"
   },
   "source": [
    "Linearity:"
   ]
  },
  {
   "cell_type": "code",
   "execution_count": 19,
   "metadata": {
    "colab": {
     "base_uri": "https://localhost:8080/"
    },
    "executionInfo": {
     "elapsed": 1725,
     "status": "ok",
     "timestamp": 1615961131576,
     "user": {
      "displayName": "vijaya bharathi paari",
      "photoUrl": "https://lh3.googleusercontent.com/a-/AOh14GgjhVrsY1cio12_7TS87bdYXqQu9_4C62ofGBjk=s64",
      "userId": "10977904578585558766"
     },
     "user_tz": -330
    },
    "id": "IZ-YGCqTrhPZ",
    "outputId": "dca8b049-7a7e-43dd-9da5-86e40c489d46"
   },
   "outputs": [
    {
     "name": "stdout",
     "output_type": "stream",
     "text": [
      "PART OF DATA IS LINEAR\n",
      "-- Linearity Assumption is satisfied\n"
     ]
    }
   ],
   "source": [
    "from statsmodels.stats.diagnostic import linear_rainbow\n",
    "# H0 : Part of the data is Linear\n",
    "\n",
    "sta,p = linear_rainbow(res=ols_mod,frac=0.5)\n",
    "if p>0.05:\n",
    "    print(\"PART OF DATA IS LINEAR\")\n",
    "    print(\"-- Linearity Assumption is satisfied\")\n",
    "else:\n",
    "    print(\"Linearity assumption is failed\")"
   ]
  },
  {
   "cell_type": "markdown",
   "metadata": {
    "id": "QTsmFFmfyin6"
   },
   "source": [
    "Normality:"
   ]
  },
  {
   "cell_type": "code",
   "execution_count": 20,
   "metadata": {
    "colab": {
     "base_uri": "https://localhost:8080/",
     "height": 265
    },
    "executionInfo": {
     "elapsed": 1372,
     "status": "ok",
     "timestamp": 1615961187881,
     "user": {
      "displayName": "vijaya bharathi paari",
      "photoUrl": "https://lh3.googleusercontent.com/a-/AOh14GgjhVrsY1cio12_7TS87bdYXqQu9_4C62ofGBjk=s64",
      "userId": "10977904578585558766"
     },
     "user_tz": -330
    },
    "id": "oDTIY0-ApALP",
    "outputId": "5fbea45c-4fbc-4d4a-b7c3-d8c8151227b9"
   },
   "outputs": [
    {
     "data": {
      "image/png": "[encoded data removed]",
      "text/plain": [
       "<Figure size 432x288 with 1 Axes>"
      ]
     },
     "metadata": {
      "needs_background": "light"
     },
     "output_type": "display_data"
    }
   ],
   "source": [
    "ols_mod.resid.plot(kind='kde')\n",
    "plt.show()"
   ]
  },
  {
   "cell_type": "code",
   "execution_count": 21,
   "metadata": {
    "colab": {
     "base_uri": "https://localhost:8080/"
    },
    "executionInfo": {
     "elapsed": 1320,
     "status": "ok",
     "timestamp": 1615961290937,
     "user": {
      "displayName": "vijaya bharathi paari",
      "photoUrl": "https://lh3.googleusercontent.com/a-/AOh14GgjhVrsY1cio12_7TS87bdYXqQu9_4C62ofGBjk=s64",
      "userId": "10977904578585558766"
     },
     "user_tz": -330
    },
    "id": "P62uHyWpyt9F",
    "outputId": "b34cad0e-03eb-4af0-91ea-64cb30f7658a"
   },
   "outputs": [
    {
     "name": "stdout",
     "output_type": "stream",
     "text": [
      "1.305471855201321\n"
     ]
    }
   ],
   "source": [
    "print(ols_mod.resid.skew())"
   ]
  },
  {
   "cell_type": "markdown",
   "metadata": {},
   "source": [
    "* Right skewed"
   ]
  },
  {
   "cell_type": "markdown",
   "metadata": {
    "id": "3JXVsD1DzIMy"
   },
   "source": [
    "Transforming the target variable:"
   ]
  },
  {
   "cell_type": "code",
   "execution_count": 22,
   "metadata": {
    "executionInfo": {
     "elapsed": 842,
     "status": "ok",
     "timestamp": 1615961597526,
     "user": {
      "displayName": "vijaya bharathi paari",
      "photoUrl": "https://lh3.googleusercontent.com/a-/AOh14GgjhVrsY1cio12_7TS87bdYXqQu9_4C62ofGBjk=s64",
      "userId": "10977904578585558766"
     },
     "user_tz": -330
    },
    "id": "sVMk859zy78j"
   },
   "outputs": [],
   "source": [
    "ytrain_tf = ytrain.apply(lambda x:np.log(x))\n",
    "ytest_tf = ytest.apply(lambda x:np.log(x))"
   ]
  },
  {
   "cell_type": "code",
   "execution_count": 23,
   "metadata": {
    "colab": {
     "base_uri": "https://localhost:8080/",
     "height": 726
    },
    "executionInfo": {
     "elapsed": 1080,
     "status": "ok",
     "timestamp": 1615961599581,
     "user": {
      "displayName": "vijaya bharathi paari",
      "photoUrl": "https://lh3.googleusercontent.com/a-/AOh14GgjhVrsY1cio12_7TS87bdYXqQu9_4C62ofGBjk=s64",
      "userId": "10977904578585558766"
     },
     "user_tz": -330
    },
    "id": "irrtbnYEzebV",
    "outputId": "f8f9c470-5e91-4303-e72f-a6550441fe37"
   },
   "outputs": [
    {
     "data": {
      "text/html": [
       "<table class=\"simpletable\">\n",
       "<caption>OLS Regression Results</caption>\n",
       "<tr>\n",
       "  <th>Dep. Variable:</th>          <td>price</td>      <th>  R-squared:         </th> <td>   0.958</td>\n",
       "</tr>\n",
       "<tr>\n",
       "  <th>Model:</th>                   <td>OLS</td>       <th>  Adj. R-squared:    </th> <td>   0.958</td>\n",
       "</tr>\n",
       "<tr>\n",
       "  <th>Method:</th>             <td>Least Squares</td>  <th>  F-statistic:       </th> <td>   1752.</td>\n",
       "</tr>\n",
       "<tr>\n",
       "  <th>Date:</th>             <td>Mon, 19 Apr 2021</td> <th>  Prob (F-statistic):</th>  <td>  0.00</td> \n",
       "</tr>\n",
       "<tr>\n",
       "  <th>Time:</th>                 <td>12:53:40</td>     <th>  Log-Likelihood:    </th> <td>  184.74</td>\n",
       "</tr>\n",
       "<tr>\n",
       "  <th>No. Observations:</th>      <td>  1237</td>      <th>  AIC:               </th> <td>  -335.5</td>\n",
       "</tr>\n",
       "<tr>\n",
       "  <th>Df Residuals:</th>          <td>  1220</td>      <th>  BIC:               </th> <td>  -248.4</td>\n",
       "</tr>\n",
       "<tr>\n",
       "  <th>Df Model:</th>              <td>    16</td>      <th>                     </th>     <td> </td>   \n",
       "</tr>\n",
       "<tr>\n",
       "  <th>Covariance Type:</th>      <td>nonrobust</td>    <th>                     </th>     <td> </td>   \n",
       "</tr>\n",
       "</table>\n",
       "<table class=\"simpletable\">\n",
       "<tr>\n",
       "        <td></td>           <th>coef</th>     <th>std err</th>      <th>t</th>      <th>P>|t|</th>  <th>[0.025</th>    <th>0.975]</th>  \n",
       "</tr>\n",
       "<tr>\n",
       "  <th>const</th>         <td>    7.7643</td> <td>    0.006</td> <td> 1301.305</td> <td> 0.000</td> <td>    7.753</td> <td>    7.776</td>\n",
       "</tr>\n",
       "<tr>\n",
       "  <th>carat</th>         <td>    1.4793</td> <td>    0.123</td> <td>   12.010</td> <td> 0.000</td> <td>    1.238</td> <td>    1.721</td>\n",
       "</tr>\n",
       "<tr>\n",
       "  <th>depth</th>         <td>    0.0664</td> <td>    0.061</td> <td>    1.096</td> <td> 0.273</td> <td>   -0.052</td> <td>    0.185</td>\n",
       "</tr>\n",
       "<tr>\n",
       "  <th>table</th>         <td>   -0.0292</td> <td>    0.008</td> <td>   -3.620</td> <td> 0.000</td> <td>   -0.045</td> <td>   -0.013</td>\n",
       "</tr>\n",
       "<tr>\n",
       "  <th>x</th>             <td>    0.3357</td> <td>    0.296</td> <td>    1.134</td> <td> 0.257</td> <td>   -0.245</td> <td>    0.917</td>\n",
       "</tr>\n",
       "<tr>\n",
       "  <th>y</th>             <td>    0.0667</td> <td>    0.286</td> <td>    0.233</td> <td> 0.816</td> <td>   -0.495</td> <td>    0.629</td>\n",
       "</tr>\n",
       "<tr>\n",
       "  <th>z</th>             <td>   -0.8512</td> <td>    0.522</td> <td>   -1.630</td> <td> 0.103</td> <td>   -1.876</td> <td>    0.173</td>\n",
       "</tr>\n",
       "<tr>\n",
       "  <th>cut_Good</th>      <td>    0.0234</td> <td>    0.013</td> <td>    1.762</td> <td> 0.078</td> <td>   -0.003</td> <td>    0.049</td>\n",
       "</tr>\n",
       "<tr>\n",
       "  <th>cut_Ideal</th>     <td>    0.0945</td> <td>    0.022</td> <td>    4.344</td> <td> 0.000</td> <td>    0.052</td> <td>    0.137</td>\n",
       "</tr>\n",
       "<tr>\n",
       "  <th>cut_Premium</th>   <td>    0.0603</td> <td>    0.019</td> <td>    3.192</td> <td> 0.001</td> <td>    0.023</td> <td>    0.097</td>\n",
       "</tr>\n",
       "<tr>\n",
       "  <th>cut_Very Good</th> <td>    0.0623</td> <td>    0.019</td> <td>    3.365</td> <td> 0.001</td> <td>    0.026</td> <td>    0.099</td>\n",
       "</tr>\n",
       "<tr>\n",
       "  <th>color_E</th>       <td>   -0.0084</td> <td>    0.008</td> <td>   -1.015</td> <td> 0.310</td> <td>   -0.025</td> <td>    0.008</td>\n",
       "</tr>\n",
       "<tr>\n",
       "  <th>color_F</th>       <td>   -0.0016</td> <td>    0.008</td> <td>   -0.190</td> <td> 0.849</td> <td>   -0.018</td> <td>    0.015</td>\n",
       "</tr>\n",
       "<tr>\n",
       "  <th>color_G</th>       <td>   -0.0106</td> <td>    0.008</td> <td>   -1.247</td> <td> 0.213</td> <td>   -0.027</td> <td>    0.006</td>\n",
       "</tr>\n",
       "<tr>\n",
       "  <th>color_H</th>       <td>   -0.0616</td> <td>    0.008</td> <td>   -7.555</td> <td> 0.000</td> <td>   -0.078</td> <td>   -0.046</td>\n",
       "</tr>\n",
       "<tr>\n",
       "  <th>color_I</th>       <td>   -0.0737</td> <td>    0.007</td> <td>   -9.919</td> <td> 0.000</td> <td>   -0.088</td> <td>   -0.059</td>\n",
       "</tr>\n",
       "<tr>\n",
       "  <th>color_J</th>       <td>   -0.0883</td> <td>    0.007</td> <td>  -12.642</td> <td> 0.000</td> <td>   -0.102</td> <td>   -0.075</td>\n",
       "</tr>\n",
       "</table>\n",
       "<table class=\"simpletable\">\n",
       "<tr>\n",
       "  <th>Omnibus:</th>       <td>19.044</td> <th>  Durbin-Watson:     </th> <td>   1.910</td>\n",
       "</tr>\n",
       "<tr>\n",
       "  <th>Prob(Omnibus):</th> <td> 0.000</td> <th>  Jarque-Bera (JB):  </th> <td>  33.139</td>\n",
       "</tr>\n",
       "<tr>\n",
       "  <th>Skew:</th>          <td> 0.049</td> <th>  Prob(JB):          </th> <td>6.37e-08</td>\n",
       "</tr>\n",
       "<tr>\n",
       "  <th>Kurtosis:</th>      <td> 3.796</td> <th>  Cond. No.          </th> <td>    219.</td>\n",
       "</tr>\n",
       "</table><br/><br/>Warnings:<br/>[1] Standard Errors assume that the covariance matrix of the errors is correctly specified."
      ],
      "text/plain": [
       "<class 'statsmodels.iolib.summary.Summary'>\n",
       "\"\"\"\n",
       "                            OLS Regression Results                            \n",
       "==============================================================================\n",
       "Dep. Variable:                  price   R-squared:                       0.958\n",
       "Model:                            OLS   Adj. R-squared:                  0.958\n",
       "Method:                 Least Squares   F-statistic:                     1752.\n",
       "Date:                Mon, 19 Apr 2021   Prob (F-statistic):               0.00\n",
       "Time:                        12:53:40   Log-Likelihood:                 184.74\n",
       "No. Observations:                1237   AIC:                            -335.5\n",
       "Df Residuals:                    1220   BIC:                            -248.4\n",
       "Df Model:                          16                                         \n",
       "Covariance Type:            nonrobust                                         \n",
       "=================================================================================\n",
       "                    coef    std err          t      P>|t|      [0.025      0.975]\n",
       "---------------------------------------------------------------------------------\n",
       "const             7.7643      0.006   1301.305      0.000       7.753       7.776\n",
       "carat             1.4793      0.123     12.010      0.000       1.238       1.721\n",
       "depth             0.0664      0.061      1.096      0.273      -0.052       0.185\n",
       "table            -0.0292      0.008     -3.620      0.000      -0.045      -0.013\n",
       "x                 0.3357      0.296      1.134      0.257      -0.245       0.917\n",
       "y                 0.0667      0.286      0.233      0.816      -0.495       0.629\n",
       "z                -0.8512      0.522     -1.630      0.103      -1.876       0.173\n",
       "cut_Good          0.0234      0.013      1.762      0.078      -0.003       0.049\n",
       "cut_Ideal         0.0945      0.022      4.344      0.000       0.052       0.137\n",
       "cut_Premium       0.0603      0.019      3.192      0.001       0.023       0.097\n",
       "cut_Very Good     0.0623      0.019      3.365      0.001       0.026       0.099\n",
       "color_E          -0.0084      0.008     -1.015      0.310      -0.025       0.008\n",
       "color_F          -0.0016      0.008     -0.190      0.849      -0.018       0.015\n",
       "color_G          -0.0106      0.008     -1.247      0.213      -0.027       0.006\n",
       "color_H          -0.0616      0.008     -7.555      0.000      -0.078      -0.046\n",
       "color_I          -0.0737      0.007     -9.919      0.000      -0.088      -0.059\n",
       "color_J          -0.0883      0.007    -12.642      0.000      -0.102      -0.075\n",
       "==============================================================================\n",
       "Omnibus:                       19.044   Durbin-Watson:                   1.910\n",
       "Prob(Omnibus):                  0.000   Jarque-Bera (JB):               33.139\n",
       "Skew:                           0.049   Prob(JB):                     6.37e-08\n",
       "Kurtosis:                       3.796   Cond. No.                         219.\n",
       "==============================================================================\n",
       "\n",
       "Warnings:\n",
       "[1] Standard Errors assume that the covariance matrix of the errors is correctly specified.\n",
       "\"\"\""
      ]
     },
     "execution_count": 23,
     "metadata": {},
     "output_type": "execute_result"
    }
   ],
   "source": [
    "xtrain_pf_con = sm.add_constant(xtrain_pf)\n",
    "ols = sm.OLS(ytrain_tf,xtrain_pf_con)\n",
    "ols_modn = ols.fit()\n",
    "ols_modn.summary()"
   ]
  },
  {
   "cell_type": "code",
   "execution_count": 24,
   "metadata": {
    "colab": {
     "base_uri": "https://localhost:8080/",
     "height": 546
    },
    "executionInfo": {
     "elapsed": 1792,
     "status": "ok",
     "timestamp": 1615961724165,
     "user": {
      "displayName": "vijaya bharathi paari",
      "photoUrl": "https://lh3.googleusercontent.com/a-/AOh14GgjhVrsY1cio12_7TS87bdYXqQu9_4C62ofGBjk=s64",
      "userId": "10977904578585558766"
     },
     "user_tz": -330
    },
    "id": "4OmVtgvl0LVu",
    "outputId": "a678f5ab-641d-4f73-b416-24d063c22074"
   },
   "outputs": [
    {
     "name": "stdout",
     "output_type": "stream",
     "text": [
      "1.305471855201321\n"
     ]
    },
    {
     "data": {
      "image/png": "[encoded data removed]",
      "text/plain": [
       "<Figure size 432x288 with 1 Axes>"
      ]
     },
     "metadata": {
      "needs_background": "light"
     },
     "output_type": "display_data"
    },
    {
     "name": "stdout",
     "output_type": "stream",
     "text": [
      "0.048596538062762436\n"
     ]
    },
    {
     "data": {
      "image/png": "[encoded data removed]",
      "text/plain": [
       "<Figure size 432x288 with 1 Axes>"
      ]
     },
     "metadata": {
      "needs_background": "light"
     },
     "output_type": "display_data"
    }
   ],
   "source": [
    "for i in [ols_mod,ols_modn]:\n",
    "    i.resid.plot(kind='kde')\n",
    "    print(i.resid.skew())\n",
    "    plt.show()"
   ]
  },
  {
   "cell_type": "markdown",
   "metadata": {
    "id": "EKRHPe790z6v"
   },
   "source": [
    "* Thus after transforming target variable, normality assumption is satified.  "
   ]
  },
  {
   "cell_type": "markdown",
   "metadata": {
    "id": "bTi6rI3w1Hvq"
   },
   "source": [
    "Multicollinearity:"
   ]
  },
  {
   "cell_type": "code",
   "execution_count": 25,
   "metadata": {
    "executionInfo": {
     "elapsed": 1488,
     "status": "ok",
     "timestamp": 1615962938037,
     "user": {
      "displayName": "vijaya bharathi paari",
      "photoUrl": "https://lh3.googleusercontent.com/a-/AOh14GgjhVrsY1cio12_7TS87bdYXqQu9_4C62ofGBjk=s64",
      "userId": "10977904578585558766"
     },
     "user_tz": -330
    },
    "id": "jzdDxGAG1IYP"
   },
   "outputs": [],
   "source": [
    "from statsmodels.stats.outliers_influence import variance_inflation_factor\n",
    "\n",
    "xtrain_pf = xtrain_pf-(xtrain_pf.mean()) # partial scaling"
   ]
  },
  {
   "cell_type": "code",
   "execution_count": 26,
   "metadata": {
    "colab": {
     "base_uri": "https://localhost:8080/",
     "height": 521
    },
    "executionInfo": {
     "elapsed": 1055,
     "status": "ok",
     "timestamp": 1615963011443,
     "user": {
      "displayName": "vijaya bharathi paari",
      "photoUrl": "https://lh3.googleusercontent.com/a-/AOh14GgjhVrsY1cio12_7TS87bdYXqQu9_4C62ofGBjk=s64",
      "userId": "10977904578585558766"
     },
     "user_tz": -330
    },
    "id": "wmqUIaRu5ZLi",
    "outputId": "d4a29099-f0c6-4f8a-e596-957f868d0dd2"
   },
   "outputs": [
    {
     "data": {
      "text/html": [
       "<div>\n",
       "<style scoped>\n",
       "    .dataframe tbody tr th:only-of-type {\n",
       "        vertical-align: middle;\n",
       "    }\n",
       "\n",
       "    .dataframe tbody tr th {\n",
       "        vertical-align: top;\n",
       "    }\n",
       "\n",
       "    .dataframe thead th {\n",
       "        text-align: right;\n",
       "    }\n",
       "</style>\n",
       "<table border=\"1\" class=\"dataframe\">\n",
       "  <thead>\n",
       "    <tr style=\"text-align: right;\">\n",
       "      <th></th>\n",
       "      <th>VIF</th>\n",
       "      <th>feature</th>\n",
       "    </tr>\n",
       "  </thead>\n",
       "  <tbody>\n",
       "    <tr>\n",
       "      <th>5</th>\n",
       "      <td>7663.171913</td>\n",
       "      <td>z</td>\n",
       "    </tr>\n",
       "    <tr>\n",
       "      <th>3</th>\n",
       "      <td>2461.988270</td>\n",
       "      <td>x</td>\n",
       "    </tr>\n",
       "    <tr>\n",
       "      <th>4</th>\n",
       "      <td>2304.220656</td>\n",
       "      <td>y</td>\n",
       "    </tr>\n",
       "    <tr>\n",
       "      <th>0</th>\n",
       "      <td>426.161990</td>\n",
       "      <td>carat</td>\n",
       "    </tr>\n",
       "    <tr>\n",
       "      <th>1</th>\n",
       "      <td>102.981073</td>\n",
       "      <td>depth</td>\n",
       "    </tr>\n",
       "    <tr>\n",
       "      <th>7</th>\n",
       "      <td>13.306670</td>\n",
       "      <td>cut_Ideal</td>\n",
       "    </tr>\n",
       "    <tr>\n",
       "      <th>8</th>\n",
       "      <td>10.018825</td>\n",
       "      <td>cut_Premium</td>\n",
       "    </tr>\n",
       "    <tr>\n",
       "      <th>9</th>\n",
       "      <td>9.633389</td>\n",
       "      <td>cut_Very Good</td>\n",
       "    </tr>\n",
       "    <tr>\n",
       "      <th>6</th>\n",
       "      <td>4.943713</td>\n",
       "      <td>cut_Good</td>\n",
       "    </tr>\n",
       "    <tr>\n",
       "      <th>12</th>\n",
       "      <td>2.025868</td>\n",
       "      <td>color_G</td>\n",
       "    </tr>\n",
       "    <tr>\n",
       "      <th>11</th>\n",
       "      <td>1.939649</td>\n",
       "      <td>color_F</td>\n",
       "    </tr>\n",
       "    <tr>\n",
       "      <th>10</th>\n",
       "      <td>1.923747</td>\n",
       "      <td>color_E</td>\n",
       "    </tr>\n",
       "    <tr>\n",
       "      <th>13</th>\n",
       "      <td>1.867359</td>\n",
       "      <td>color_H</td>\n",
       "    </tr>\n",
       "    <tr>\n",
       "      <th>2</th>\n",
       "      <td>1.825522</td>\n",
       "      <td>table</td>\n",
       "    </tr>\n",
       "    <tr>\n",
       "      <th>14</th>\n",
       "      <td>1.549739</td>\n",
       "      <td>color_I</td>\n",
       "    </tr>\n",
       "    <tr>\n",
       "      <th>15</th>\n",
       "      <td>1.369454</td>\n",
       "      <td>color_J</td>\n",
       "    </tr>\n",
       "  </tbody>\n",
       "</table>\n",
       "</div>"
      ],
      "text/plain": [
       "            VIF        feature\n",
       "5   7663.171913              z\n",
       "3   2461.988270              x\n",
       "4   2304.220656              y\n",
       "0    426.161990          carat\n",
       "1    102.981073          depth\n",
       "7     13.306670      cut_Ideal\n",
       "8     10.018825    cut_Premium\n",
       "9      9.633389  cut_Very Good\n",
       "6      4.943713       cut_Good\n",
       "12     2.025868        color_G\n",
       "11     1.939649        color_F\n",
       "10     1.923747        color_E\n",
       "13     1.867359        color_H\n",
       "2      1.825522          table\n",
       "14     1.549739        color_I\n",
       "15     1.369454        color_J"
      ]
     },
     "execution_count": 26,
     "metadata": {},
     "output_type": "execute_result"
    }
   ],
   "source": [
    "vif = pd.DataFrame()\n",
    "vif['VIF'] = [variance_inflation_factor(xtrain_pf.values,i) for i in range(xtrain_pf.shape[1])]\n",
    "vif['feature'] = xtrain_pf.columns\n",
    "vif.sort_values('VIF',ascending=False)"
   ]
  },
  {
   "cell_type": "code",
   "execution_count": 27,
   "metadata": {
    "colab": {
     "base_uri": "https://localhost:8080/",
     "height": 491
    },
    "executionInfo": {
     "elapsed": 1413,
     "status": "ok",
     "timestamp": 1615963095798,
     "user": {
      "displayName": "vijaya bharathi paari",
      "photoUrl": "https://lh3.googleusercontent.com/a-/AOh14GgjhVrsY1cio12_7TS87bdYXqQu9_4C62ofGBjk=s64",
      "userId": "10977904578585558766"
     },
     "user_tz": -330
    },
    "id": "U7RWIpxd5rUD",
    "outputId": "642a33f4-2175-45b8-ed83-8ec484a3d92a"
   },
   "outputs": [
    {
     "data": {
      "text/html": [
       "<div>\n",
       "<style scoped>\n",
       "    .dataframe tbody tr th:only-of-type {\n",
       "        vertical-align: middle;\n",
       "    }\n",
       "\n",
       "    .dataframe tbody tr th {\n",
       "        vertical-align: top;\n",
       "    }\n",
       "\n",
       "    .dataframe thead th {\n",
       "        text-align: right;\n",
       "    }\n",
       "</style>\n",
       "<table border=\"1\" class=\"dataframe\">\n",
       "  <thead>\n",
       "    <tr style=\"text-align: right;\">\n",
       "      <th></th>\n",
       "      <th>VIF</th>\n",
       "      <th>feature</th>\n",
       "    </tr>\n",
       "  </thead>\n",
       "  <tbody>\n",
       "    <tr>\n",
       "      <th>3</th>\n",
       "      <td>685.755842</td>\n",
       "      <td>x</td>\n",
       "    </tr>\n",
       "    <tr>\n",
       "      <th>4</th>\n",
       "      <td>654.425790</td>\n",
       "      <td>y</td>\n",
       "    </tr>\n",
       "    <tr>\n",
       "      <th>0</th>\n",
       "      <td>403.615062</td>\n",
       "      <td>carat</td>\n",
       "    </tr>\n",
       "    <tr>\n",
       "      <th>6</th>\n",
       "      <td>11.949350</td>\n",
       "      <td>cut_Ideal</td>\n",
       "    </tr>\n",
       "    <tr>\n",
       "      <th>7</th>\n",
       "      <td>8.840883</td>\n",
       "      <td>cut_Premium</td>\n",
       "    </tr>\n",
       "    <tr>\n",
       "      <th>8</th>\n",
       "      <td>8.644220</td>\n",
       "      <td>cut_Very Good</td>\n",
       "    </tr>\n",
       "    <tr>\n",
       "      <th>5</th>\n",
       "      <td>4.557498</td>\n",
       "      <td>cut_Good</td>\n",
       "    </tr>\n",
       "    <tr>\n",
       "      <th>1</th>\n",
       "      <td>2.646819</td>\n",
       "      <td>depth</td>\n",
       "    </tr>\n",
       "    <tr>\n",
       "      <th>11</th>\n",
       "      <td>2.025494</td>\n",
       "      <td>color_G</td>\n",
       "    </tr>\n",
       "    <tr>\n",
       "      <th>10</th>\n",
       "      <td>1.937173</td>\n",
       "      <td>color_F</td>\n",
       "    </tr>\n",
       "    <tr>\n",
       "      <th>9</th>\n",
       "      <td>1.922235</td>\n",
       "      <td>color_E</td>\n",
       "    </tr>\n",
       "    <tr>\n",
       "      <th>12</th>\n",
       "      <td>1.864594</td>\n",
       "      <td>color_H</td>\n",
       "    </tr>\n",
       "    <tr>\n",
       "      <th>2</th>\n",
       "      <td>1.803216</td>\n",
       "      <td>table</td>\n",
       "    </tr>\n",
       "    <tr>\n",
       "      <th>13</th>\n",
       "      <td>1.548111</td>\n",
       "      <td>color_I</td>\n",
       "    </tr>\n",
       "    <tr>\n",
       "      <th>14</th>\n",
       "      <td>1.369378</td>\n",
       "      <td>color_J</td>\n",
       "    </tr>\n",
       "  </tbody>\n",
       "</table>\n",
       "</div>"
      ],
      "text/plain": [
       "           VIF        feature\n",
       "3   685.755842              x\n",
       "4   654.425790              y\n",
       "0   403.615062          carat\n",
       "6    11.949350      cut_Ideal\n",
       "7     8.840883    cut_Premium\n",
       "8     8.644220  cut_Very Good\n",
       "5     4.557498       cut_Good\n",
       "1     2.646819          depth\n",
       "11    2.025494        color_G\n",
       "10    1.937173        color_F\n",
       "9     1.922235        color_E\n",
       "12    1.864594        color_H\n",
       "2     1.803216          table\n",
       "13    1.548111        color_I\n",
       "14    1.369378        color_J"
      ]
     },
     "execution_count": 27,
     "metadata": {},
     "output_type": "execute_result"
    }
   ],
   "source": [
    "xtrain_pf = xtrain_pf.drop(\"z\",axis=1)\n",
    "vif = pd.DataFrame()\n",
    "vif['VIF'] = [variance_inflation_factor(xtrain_pf.values,i) for i in range(xtrain_pf.shape[1])]\n",
    "vif['feature'] = xtrain_pf.columns\n",
    "vif.sort_values('VIF',ascending=False)"
   ]
  },
  {
   "cell_type": "code",
   "execution_count": 28,
   "metadata": {
    "colab": {
     "base_uri": "https://localhost:8080/",
     "height": 462
    },
    "executionInfo": {
     "elapsed": 1295,
     "status": "ok",
     "timestamp": 1615963119711,
     "user": {
      "displayName": "vijaya bharathi paari",
      "photoUrl": "https://lh3.googleusercontent.com/a-/AOh14GgjhVrsY1cio12_7TS87bdYXqQu9_4C62ofGBjk=s64",
      "userId": "10977904578585558766"
     },
     "user_tz": -330
    },
    "id": "OjHDRqPn5_0u",
    "outputId": "36510e40-6dd0-43a0-d91a-c06939111085"
   },
   "outputs": [
    {
     "data": {
      "text/html": [
       "<div>\n",
       "<style scoped>\n",
       "    .dataframe tbody tr th:only-of-type {\n",
       "        vertical-align: middle;\n",
       "    }\n",
       "\n",
       "    .dataframe tbody tr th {\n",
       "        vertical-align: top;\n",
       "    }\n",
       "\n",
       "    .dataframe thead th {\n",
       "        text-align: right;\n",
       "    }\n",
       "</style>\n",
       "<table border=\"1\" class=\"dataframe\">\n",
       "  <thead>\n",
       "    <tr style=\"text-align: right;\">\n",
       "      <th></th>\n",
       "      <th>VIF</th>\n",
       "      <th>feature</th>\n",
       "    </tr>\n",
       "  </thead>\n",
       "  <tbody>\n",
       "    <tr>\n",
       "      <th>0</th>\n",
       "      <td>336.208028</td>\n",
       "      <td>carat</td>\n",
       "    </tr>\n",
       "    <tr>\n",
       "      <th>3</th>\n",
       "      <td>332.815907</td>\n",
       "      <td>y</td>\n",
       "    </tr>\n",
       "    <tr>\n",
       "      <th>5</th>\n",
       "      <td>11.733142</td>\n",
       "      <td>cut_Ideal</td>\n",
       "    </tr>\n",
       "    <tr>\n",
       "      <th>6</th>\n",
       "      <td>8.834381</td>\n",
       "      <td>cut_Premium</td>\n",
       "    </tr>\n",
       "    <tr>\n",
       "      <th>7</th>\n",
       "      <td>8.261070</td>\n",
       "      <td>cut_Very Good</td>\n",
       "    </tr>\n",
       "    <tr>\n",
       "      <th>4</th>\n",
       "      <td>4.465030</td>\n",
       "      <td>cut_Good</td>\n",
       "    </tr>\n",
       "    <tr>\n",
       "      <th>1</th>\n",
       "      <td>2.507067</td>\n",
       "      <td>depth</td>\n",
       "    </tr>\n",
       "    <tr>\n",
       "      <th>10</th>\n",
       "      <td>2.025229</td>\n",
       "      <td>color_G</td>\n",
       "    </tr>\n",
       "    <tr>\n",
       "      <th>9</th>\n",
       "      <td>1.934312</td>\n",
       "      <td>color_F</td>\n",
       "    </tr>\n",
       "    <tr>\n",
       "      <th>8</th>\n",
       "      <td>1.918160</td>\n",
       "      <td>color_E</td>\n",
       "    </tr>\n",
       "    <tr>\n",
       "      <th>11</th>\n",
       "      <td>1.864584</td>\n",
       "      <td>color_H</td>\n",
       "    </tr>\n",
       "    <tr>\n",
       "      <th>2</th>\n",
       "      <td>1.794059</td>\n",
       "      <td>table</td>\n",
       "    </tr>\n",
       "    <tr>\n",
       "      <th>12</th>\n",
       "      <td>1.547983</td>\n",
       "      <td>color_I</td>\n",
       "    </tr>\n",
       "    <tr>\n",
       "      <th>13</th>\n",
       "      <td>1.367625</td>\n",
       "      <td>color_J</td>\n",
       "    </tr>\n",
       "  </tbody>\n",
       "</table>\n",
       "</div>"
      ],
      "text/plain": [
       "           VIF        feature\n",
       "0   336.208028          carat\n",
       "3   332.815907              y\n",
       "5    11.733142      cut_Ideal\n",
       "6     8.834381    cut_Premium\n",
       "7     8.261070  cut_Very Good\n",
       "4     4.465030       cut_Good\n",
       "1     2.507067          depth\n",
       "10    2.025229        color_G\n",
       "9     1.934312        color_F\n",
       "8     1.918160        color_E\n",
       "11    1.864584        color_H\n",
       "2     1.794059          table\n",
       "12    1.547983        color_I\n",
       "13    1.367625        color_J"
      ]
     },
     "execution_count": 28,
     "metadata": {},
     "output_type": "execute_result"
    }
   ],
   "source": [
    "xtrain_pf = xtrain_pf.drop(\"x\",axis=1)\n",
    "vif = pd.DataFrame()\n",
    "vif['VIF'] = [variance_inflation_factor(xtrain_pf.values,i) for i in range(xtrain_pf.shape[1])]\n",
    "vif['feature'] = xtrain_pf.columns\n",
    "vif.sort_values('VIF',ascending=False)"
   ]
  },
  {
   "cell_type": "code",
   "execution_count": 29,
   "metadata": {
    "colab": {
     "base_uri": "https://localhost:8080/",
     "height": 432
    },
    "executionInfo": {
     "elapsed": 1649,
     "status": "ok",
     "timestamp": 1615963144467,
     "user": {
      "displayName": "vijaya bharathi paari",
      "photoUrl": "https://lh3.googleusercontent.com/a-/AOh14GgjhVrsY1cio12_7TS87bdYXqQu9_4C62ofGBjk=s64",
      "userId": "10977904578585558766"
     },
     "user_tz": -330
    },
    "id": "dUgdZNf46FsK",
    "outputId": "8f2832dc-78d8-4d0f-9188-bc818c8c5b8f"
   },
   "outputs": [
    {
     "data": {
      "text/html": [
       "<div>\n",
       "<style scoped>\n",
       "    .dataframe tbody tr th:only-of-type {\n",
       "        vertical-align: middle;\n",
       "    }\n",
       "\n",
       "    .dataframe tbody tr th {\n",
       "        vertical-align: top;\n",
       "    }\n",
       "\n",
       "    .dataframe thead th {\n",
       "        text-align: right;\n",
       "    }\n",
       "</style>\n",
       "<table border=\"1\" class=\"dataframe\">\n",
       "  <thead>\n",
       "    <tr style=\"text-align: right;\">\n",
       "      <th></th>\n",
       "      <th>VIF</th>\n",
       "      <th>feature</th>\n",
       "    </tr>\n",
       "  </thead>\n",
       "  <tbody>\n",
       "    <tr>\n",
       "      <th>4</th>\n",
       "      <td>11.728073</td>\n",
       "      <td>cut_Ideal</td>\n",
       "    </tr>\n",
       "    <tr>\n",
       "      <th>5</th>\n",
       "      <td>8.811369</td>\n",
       "      <td>cut_Premium</td>\n",
       "    </tr>\n",
       "    <tr>\n",
       "      <th>6</th>\n",
       "      <td>8.256665</td>\n",
       "      <td>cut_Very Good</td>\n",
       "    </tr>\n",
       "    <tr>\n",
       "      <th>3</th>\n",
       "      <td>4.464987</td>\n",
       "      <td>cut_Good</td>\n",
       "    </tr>\n",
       "    <tr>\n",
       "      <th>9</th>\n",
       "      <td>2.024878</td>\n",
       "      <td>color_G</td>\n",
       "    </tr>\n",
       "    <tr>\n",
       "      <th>8</th>\n",
       "      <td>1.933687</td>\n",
       "      <td>color_F</td>\n",
       "    </tr>\n",
       "    <tr>\n",
       "      <th>7</th>\n",
       "      <td>1.917307</td>\n",
       "      <td>color_E</td>\n",
       "    </tr>\n",
       "    <tr>\n",
       "      <th>10</th>\n",
       "      <td>1.862147</td>\n",
       "      <td>color_H</td>\n",
       "    </tr>\n",
       "    <tr>\n",
       "      <th>2</th>\n",
       "      <td>1.730260</td>\n",
       "      <td>table</td>\n",
       "    </tr>\n",
       "    <tr>\n",
       "      <th>11</th>\n",
       "      <td>1.546612</td>\n",
       "      <td>color_I</td>\n",
       "    </tr>\n",
       "    <tr>\n",
       "      <th>12</th>\n",
       "      <td>1.365638</td>\n",
       "      <td>color_J</td>\n",
       "    </tr>\n",
       "    <tr>\n",
       "      <th>1</th>\n",
       "      <td>1.353224</td>\n",
       "      <td>depth</td>\n",
       "    </tr>\n",
       "    <tr>\n",
       "      <th>0</th>\n",
       "      <td>1.141093</td>\n",
       "      <td>carat</td>\n",
       "    </tr>\n",
       "  </tbody>\n",
       "</table>\n",
       "</div>"
      ],
      "text/plain": [
       "          VIF        feature\n",
       "4   11.728073      cut_Ideal\n",
       "5    8.811369    cut_Premium\n",
       "6    8.256665  cut_Very Good\n",
       "3    4.464987       cut_Good\n",
       "9    2.024878        color_G\n",
       "8    1.933687        color_F\n",
       "7    1.917307        color_E\n",
       "10   1.862147        color_H\n",
       "2    1.730260          table\n",
       "11   1.546612        color_I\n",
       "12   1.365638        color_J\n",
       "1    1.353224          depth\n",
       "0    1.141093          carat"
      ]
     },
     "execution_count": 29,
     "metadata": {},
     "output_type": "execute_result"
    }
   ],
   "source": [
    "xtrain_pf = xtrain_pf.drop(\"y\",axis=1)\n",
    "vif = pd.DataFrame()\n",
    "vif['VIF'] = [variance_inflation_factor(xtrain_pf.values,i) for i in range(xtrain_pf.shape[1])]\n",
    "vif['feature'] = xtrain_pf.columns\n",
    "vif.sort_values('VIF',ascending=False)"
   ]
  },
  {
   "cell_type": "code",
   "execution_count": 30,
   "metadata": {
    "colab": {
     "base_uri": "https://localhost:8080/",
     "height": 658
    },
    "executionInfo": {
     "elapsed": 2807,
     "status": "ok",
     "timestamp": 1615963258735,
     "user": {
      "displayName": "vijaya bharathi paari",
      "photoUrl": "https://lh3.googleusercontent.com/a-/AOh14GgjhVrsY1cio12_7TS87bdYXqQu9_4C62ofGBjk=s64",
      "userId": "10977904578585558766"
     },
     "user_tz": -330
    },
    "id": "KFi99QuC6Lpe",
    "outputId": "61342077-421b-4589-900d-cc2d5c061fd0"
   },
   "outputs": [
    {
     "data": {
      "image/png": "[encoded data removed]",
      "text/plain": [
       "<Figure size 720x720 with 2 Axes>"
      ]
     },
     "metadata": {
      "needs_background": "light"
     },
     "output_type": "display_data"
    }
   ],
   "source": [
    "plt.figure(figsize=(10,10))\n",
    "sns.heatmap(final_df[xtrain_pf.columns].corr(),annot=True)\n",
    "plt.show()"
   ]
  },
  {
   "cell_type": "code",
   "execution_count": 31,
   "metadata": {
    "executionInfo": {
     "elapsed": 686,
     "status": "ok",
     "timestamp": 1615965026001,
     "user": {
      "displayName": "vijaya bharathi paari",
      "photoUrl": "https://lh3.googleusercontent.com/a-/AOh14GgjhVrsY1cio12_7TS87bdYXqQu9_4C62ofGBjk=s64",
      "userId": "10977904578585558766"
     },
     "user_tz": -330
    },
    "id": "P62BsNXvBPre"
   },
   "outputs": [],
   "source": [
    "xtest_pf = xtest_pf.drop([\"x\",\"y\",\"z\"],axis=1)"
   ]
  },
  {
   "cell_type": "markdown",
   "metadata": {
    "id": "HHJXNPe47q9J"
   },
   "source": [
    "Homoscadasity:\n"
   ]
  },
  {
   "cell_type": "code",
   "execution_count": 32,
   "metadata": {
    "colab": {
     "base_uri": "https://localhost:8080/"
    },
    "executionInfo": {
     "elapsed": 1252,
     "status": "ok",
     "timestamp": 1615963698499,
     "user": {
      "displayName": "vijaya bharathi paari",
      "photoUrl": "https://lh3.googleusercontent.com/a-/AOh14GgjhVrsY1cio12_7TS87bdYXqQu9_4C62ofGBjk=s64",
      "userId": "10977904578585558766"
     },
     "user_tz": -330
    },
    "id": "UuVOImW06eSD",
    "outputId": "03f9fcab-3a65-49f1-f3bb-d4f423755e70"
   },
   "outputs": [
    {
     "name": "stdout",
     "output_type": "stream",
     "text": [
      "Model is homoscadastic\n"
     ]
    }
   ],
   "source": [
    "from statsmodels.stats.api import het_goldfeldquandt\n",
    "\n",
    "stat,p,nat=het_goldfeldquandt(ols_modn.resid,xtrain_pf)\n",
    "if p>0.05:\n",
    "    print(\"Model is homoscadastic\")\n",
    "else:\n",
    "    print(\"Model is heteroscadastic\")"
   ]
  },
  {
   "cell_type": "markdown",
   "metadata": {
    "id": "XMVFe7JU8Yj9"
   },
   "source": [
    "No Auto Correlation:"
   ]
  },
  {
   "cell_type": "code",
   "execution_count": 33,
   "metadata": {
    "colab": {
     "base_uri": "https://localhost:8080/",
     "height": 726
    },
    "executionInfo": {
     "elapsed": 1269,
     "status": "ok",
     "timestamp": 1615963759473,
     "user": {
      "displayName": "vijaya bharathi paari",
      "photoUrl": "https://lh3.googleusercontent.com/a-/AOh14GgjhVrsY1cio12_7TS87bdYXqQu9_4C62ofGBjk=s64",
      "userId": "10977904578585558766"
     },
     "user_tz": -330
    },
    "id": "kQAUnPVy8PgT",
    "outputId": "0c035ddc-fc11-4911-d904-899714c01bbe"
   },
   "outputs": [
    {
     "data": {
      "text/html": [
       "<table class=\"simpletable\">\n",
       "<caption>OLS Regression Results</caption>\n",
       "<tr>\n",
       "  <th>Dep. Variable:</th>          <td>price</td>      <th>  R-squared:         </th> <td>   0.958</td>\n",
       "</tr>\n",
       "<tr>\n",
       "  <th>Model:</th>                   <td>OLS</td>       <th>  Adj. R-squared:    </th> <td>   0.958</td>\n",
       "</tr>\n",
       "<tr>\n",
       "  <th>Method:</th>             <td>Least Squares</td>  <th>  F-statistic:       </th> <td>   1752.</td>\n",
       "</tr>\n",
       "<tr>\n",
       "  <th>Date:</th>             <td>Mon, 19 Apr 2021</td> <th>  Prob (F-statistic):</th>  <td>  0.00</td> \n",
       "</tr>\n",
       "<tr>\n",
       "  <th>Time:</th>                 <td>12:53:43</td>     <th>  Log-Likelihood:    </th> <td>  184.74</td>\n",
       "</tr>\n",
       "<tr>\n",
       "  <th>No. Observations:</th>      <td>  1237</td>      <th>  AIC:               </th> <td>  -335.5</td>\n",
       "</tr>\n",
       "<tr>\n",
       "  <th>Df Residuals:</th>          <td>  1220</td>      <th>  BIC:               </th> <td>  -248.4</td>\n",
       "</tr>\n",
       "<tr>\n",
       "  <th>Df Model:</th>              <td>    16</td>      <th>                     </th>     <td> </td>   \n",
       "</tr>\n",
       "<tr>\n",
       "  <th>Covariance Type:</th>      <td>nonrobust</td>    <th>                     </th>     <td> </td>   \n",
       "</tr>\n",
       "</table>\n",
       "<table class=\"simpletable\">\n",
       "<tr>\n",
       "        <td></td>           <th>coef</th>     <th>std err</th>      <th>t</th>      <th>P>|t|</th>  <th>[0.025</th>    <th>0.975]</th>  \n",
       "</tr>\n",
       "<tr>\n",
       "  <th>const</th>         <td>    7.7643</td> <td>    0.006</td> <td> 1301.305</td> <td> 0.000</td> <td>    7.753</td> <td>    7.776</td>\n",
       "</tr>\n",
       "<tr>\n",
       "  <th>carat</th>         <td>    1.4793</td> <td>    0.123</td> <td>   12.010</td> <td> 0.000</td> <td>    1.238</td> <td>    1.721</td>\n",
       "</tr>\n",
       "<tr>\n",
       "  <th>depth</th>         <td>    0.0664</td> <td>    0.061</td> <td>    1.096</td> <td> 0.273</td> <td>   -0.052</td> <td>    0.185</td>\n",
       "</tr>\n",
       "<tr>\n",
       "  <th>table</th>         <td>   -0.0292</td> <td>    0.008</td> <td>   -3.620</td> <td> 0.000</td> <td>   -0.045</td> <td>   -0.013</td>\n",
       "</tr>\n",
       "<tr>\n",
       "  <th>x</th>             <td>    0.3357</td> <td>    0.296</td> <td>    1.134</td> <td> 0.257</td> <td>   -0.245</td> <td>    0.917</td>\n",
       "</tr>\n",
       "<tr>\n",
       "  <th>y</th>             <td>    0.0667</td> <td>    0.286</td> <td>    0.233</td> <td> 0.816</td> <td>   -0.495</td> <td>    0.629</td>\n",
       "</tr>\n",
       "<tr>\n",
       "  <th>z</th>             <td>   -0.8512</td> <td>    0.522</td> <td>   -1.630</td> <td> 0.103</td> <td>   -1.876</td> <td>    0.173</td>\n",
       "</tr>\n",
       "<tr>\n",
       "  <th>cut_Good</th>      <td>    0.0234</td> <td>    0.013</td> <td>    1.762</td> <td> 0.078</td> <td>   -0.003</td> <td>    0.049</td>\n",
       "</tr>\n",
       "<tr>\n",
       "  <th>cut_Ideal</th>     <td>    0.0945</td> <td>    0.022</td> <td>    4.344</td> <td> 0.000</td> <td>    0.052</td> <td>    0.137</td>\n",
       "</tr>\n",
       "<tr>\n",
       "  <th>cut_Premium</th>   <td>    0.0603</td> <td>    0.019</td> <td>    3.192</td> <td> 0.001</td> <td>    0.023</td> <td>    0.097</td>\n",
       "</tr>\n",
       "<tr>\n",
       "  <th>cut_Very Good</th> <td>    0.0623</td> <td>    0.019</td> <td>    3.365</td> <td> 0.001</td> <td>    0.026</td> <td>    0.099</td>\n",
       "</tr>\n",
       "<tr>\n",
       "  <th>color_E</th>       <td>   -0.0084</td> <td>    0.008</td> <td>   -1.015</td> <td> 0.310</td> <td>   -0.025</td> <td>    0.008</td>\n",
       "</tr>\n",
       "<tr>\n",
       "  <th>color_F</th>       <td>   -0.0016</td> <td>    0.008</td> <td>   -0.190</td> <td> 0.849</td> <td>   -0.018</td> <td>    0.015</td>\n",
       "</tr>\n",
       "<tr>\n",
       "  <th>color_G</th>       <td>   -0.0106</td> <td>    0.008</td> <td>   -1.247</td> <td> 0.213</td> <td>   -0.027</td> <td>    0.006</td>\n",
       "</tr>\n",
       "<tr>\n",
       "  <th>color_H</th>       <td>   -0.0616</td> <td>    0.008</td> <td>   -7.555</td> <td> 0.000</td> <td>   -0.078</td> <td>   -0.046</td>\n",
       "</tr>\n",
       "<tr>\n",
       "  <th>color_I</th>       <td>   -0.0737</td> <td>    0.007</td> <td>   -9.919</td> <td> 0.000</td> <td>   -0.088</td> <td>   -0.059</td>\n",
       "</tr>\n",
       "<tr>\n",
       "  <th>color_J</th>       <td>   -0.0883</td> <td>    0.007</td> <td>  -12.642</td> <td> 0.000</td> <td>   -0.102</td> <td>   -0.075</td>\n",
       "</tr>\n",
       "</table>\n",
       "<table class=\"simpletable\">\n",
       "<tr>\n",
       "  <th>Omnibus:</th>       <td>19.044</td> <th>  Durbin-Watson:     </th> <td>   1.910</td>\n",
       "</tr>\n",
       "<tr>\n",
       "  <th>Prob(Omnibus):</th> <td> 0.000</td> <th>  Jarque-Bera (JB):  </th> <td>  33.139</td>\n",
       "</tr>\n",
       "<tr>\n",
       "  <th>Skew:</th>          <td> 0.049</td> <th>  Prob(JB):          </th> <td>6.37e-08</td>\n",
       "</tr>\n",
       "<tr>\n",
       "  <th>Kurtosis:</th>      <td> 3.796</td> <th>  Cond. No.          </th> <td>    219.</td>\n",
       "</tr>\n",
       "</table><br/><br/>Warnings:<br/>[1] Standard Errors assume that the covariance matrix of the errors is correctly specified."
      ],
      "text/plain": [
       "<class 'statsmodels.iolib.summary.Summary'>\n",
       "\"\"\"\n",
       "                            OLS Regression Results                            \n",
       "==============================================================================\n",
       "Dep. Variable:                  price   R-squared:                       0.958\n",
       "Model:                            OLS   Adj. R-squared:                  0.958\n",
       "Method:                 Least Squares   F-statistic:                     1752.\n",
       "Date:                Mon, 19 Apr 2021   Prob (F-statistic):               0.00\n",
       "Time:                        12:53:43   Log-Likelihood:                 184.74\n",
       "No. Observations:                1237   AIC:                            -335.5\n",
       "Df Residuals:                    1220   BIC:                            -248.4\n",
       "Df Model:                          16                                         \n",
       "Covariance Type:            nonrobust                                         \n",
       "=================================================================================\n",
       "                    coef    std err          t      P>|t|      [0.025      0.975]\n",
       "---------------------------------------------------------------------------------\n",
       "const             7.7643      0.006   1301.305      0.000       7.753       7.776\n",
       "carat             1.4793      0.123     12.010      0.000       1.238       1.721\n",
       "depth             0.0664      0.061      1.096      0.273      -0.052       0.185\n",
       "table            -0.0292      0.008     -3.620      0.000      -0.045      -0.013\n",
       "x                 0.3357      0.296      1.134      0.257      -0.245       0.917\n",
       "y                 0.0667      0.286      0.233      0.816      -0.495       0.629\n",
       "z                -0.8512      0.522     -1.630      0.103      -1.876       0.173\n",
       "cut_Good          0.0234      0.013      1.762      0.078      -0.003       0.049\n",
       "cut_Ideal         0.0945      0.022      4.344      0.000       0.052       0.137\n",
       "cut_Premium       0.0603      0.019      3.192      0.001       0.023       0.097\n",
       "cut_Very Good     0.0623      0.019      3.365      0.001       0.026       0.099\n",
       "color_E          -0.0084      0.008     -1.015      0.310      -0.025       0.008\n",
       "color_F          -0.0016      0.008     -0.190      0.849      -0.018       0.015\n",
       "color_G          -0.0106      0.008     -1.247      0.213      -0.027       0.006\n",
       "color_H          -0.0616      0.008     -7.555      0.000      -0.078      -0.046\n",
       "color_I          -0.0737      0.007     -9.919      0.000      -0.088      -0.059\n",
       "color_J          -0.0883      0.007    -12.642      0.000      -0.102      -0.075\n",
       "==============================================================================\n",
       "Omnibus:                       19.044   Durbin-Watson:                   1.910\n",
       "Prob(Omnibus):                  0.000   Jarque-Bera (JB):               33.139\n",
       "Skew:                           0.049   Prob(JB):                     6.37e-08\n",
       "Kurtosis:                       3.796   Cond. No.                         219.\n",
       "==============================================================================\n",
       "\n",
       "Warnings:\n",
       "[1] Standard Errors assume that the covariance matrix of the errors is correctly specified.\n",
       "\"\"\""
      ]
     },
     "execution_count": 33,
     "metadata": {},
     "output_type": "execute_result"
    }
   ],
   "source": [
    "ols_modn.summary()"
   ]
  },
  {
   "cell_type": "markdown",
   "metadata": {
    "id": "adwH8wfl85_5"
   },
   "source": [
    "* Durbin-Watson: 1.910 ( Value is near to 2 )\n",
    "* Thus there is no auto correlation"
   ]
  },
  {
   "cell_type": "markdown",
   "metadata": {
    "id": "yIJw24QB9-bd"
   },
   "source": [
    "**Model building**\n"
   ]
  },
  {
   "cell_type": "code",
   "execution_count": 34,
   "metadata": {
    "colab": {
     "base_uri": "https://localhost:8080/"
    },
    "executionInfo": {
     "elapsed": 1115,
     "status": "ok",
     "timestamp": 1615965663769,
     "user": {
      "displayName": "vijaya bharathi paari",
      "photoUrl": "https://lh3.googleusercontent.com/a-/AOh14GgjhVrsY1cio12_7TS87bdYXqQu9_4C62ofGBjk=s64",
      "userId": "10977904578585558766"
     },
     "user_tz": -330
    },
    "id": "ts3uIIlB8qKZ",
    "outputId": "ef4bcef0-4633-44a2-f3ba-56dfb8b14f75"
   },
   "outputs": [
    {
     "name": "stdout",
     "output_type": "stream",
     "text": [
      "train r2_score:\n",
      "0.9577780127777169\n",
      "test r2_score:\n",
      "0.9482565681973845\n"
     ]
    }
   ],
   "source": [
    "from sklearn.linear_model import LinearRegression\n",
    "\n",
    "lr = LinearRegression()\n",
    "mod = lr.fit(xtrain_pf,ytrain_tf)\n",
    "print(\"train r2_score:\")\n",
    "print(mod.score(xtrain_pf,ytrain_tf))\n",
    "print(\"test r2_score:\")\n",
    "print(mod.score(xtest_pf,ytest_tf))\n",
    "ypred = mod.predict(xtest_pf)\n",
    "ypred_train = mod.predict(xtrain_pf)"
   ]
  },
  {
   "cell_type": "markdown",
   "metadata": {
    "id": "CayoJVVRCp4l"
   },
   "source": [
    "**Model performance**"
   ]
  },
  {
   "cell_type": "code",
   "execution_count": 35,
   "metadata": {
    "executionInfo": {
     "elapsed": 2234,
     "status": "ok",
     "timestamp": 1615965701014,
     "user": {
      "displayName": "vijaya bharathi paari",
      "photoUrl": "https://lh3.googleusercontent.com/a-/AOh14GgjhVrsY1cio12_7TS87bdYXqQu9_4C62ofGBjk=s64",
      "userId": "10977904578585558766"
     },
     "user_tz": -330
    },
    "id": "B77Ok5KR-jrr"
   },
   "outputs": [],
   "source": [
    "from sklearn.metrics import mean_squared_error\n",
    "\n",
    "train_rmse = np.sqrt(mean_squared_error(ytrain_tf,ypred_train))\n",
    "test_rmse = np.sqrt(mean_squared_error(ytest_tf,ypred))"
   ]
  },
  {
   "cell_type": "code",
   "execution_count": 36,
   "metadata": {
    "colab": {
     "base_uri": "https://localhost:8080/"
    },
    "executionInfo": {
     "elapsed": 1104,
     "status": "ok",
     "timestamp": 1615965783922,
     "user": {
      "displayName": "vijaya bharathi paari",
      "photoUrl": "https://lh3.googleusercontent.com/a-/AOh14GgjhVrsY1cio12_7TS87bdYXqQu9_4C62ofGBjk=s64",
      "userId": "10977904578585558766"
     },
     "user_tz": -330
    },
    "id": "Sml2z-qu_AwC",
    "outputId": "196cd95d-bf7f-4500-dedb-67aca872aaf7"
   },
   "outputs": [
    {
     "name": "stdout",
     "output_type": "stream",
     "text": [
      "train- 0.20968005786615204 \n",
      "test- 0.23993593517474623\n"
     ]
    }
   ],
   "source": [
    "print(\"train-\",train_rmse,\"\\ntest-\",test_rmse)"
   ]
  },
  {
   "cell_type": "code",
   "execution_count": 37,
   "metadata": {
    "colab": {
     "base_uri": "https://localhost:8080/"
    },
    "executionInfo": {
     "elapsed": 1178,
     "status": "ok",
     "timestamp": 1615966846522,
     "user": {
      "displayName": "vijaya bharathi paari",
      "photoUrl": "https://lh3.googleusercontent.com/a-/AOh14GgjhVrsY1cio12_7TS87bdYXqQu9_4C62ofGBjk=s64",
      "userId": "10977904578585558766"
     },
     "user_tz": -330
    },
    "id": "oYpuvcQ2EAyB",
    "outputId": "8d20a90c-7321-4f1f-b281-cf104cc8780c"
   },
   "outputs": [
    {
     "name": "stdout",
     "output_type": "stream",
     "text": [
      "Average_Neg_mean_error: -0.04488633332063802 \n",
      "Variance_error: 0.0037067650665662043 \n",
      "Coefficient of Variance error: -0.08258115092822459\n"
     ]
    }
   ],
   "source": [
    "from sklearn.model_selection import cross_val_score\n",
    "\n",
    "lr = LinearRegression()\n",
    "score = cross_val_score(lr,xtrain_pf,ytrain_tf,cv=5,scoring='neg_mean_squared_error')\n",
    "avg_score = np.mean(score)\n",
    "ve = np.std(score)\n",
    "cve = np.std(score)/np.mean(score)\n",
    "print(\"Average_Neg_mean_error:\",avg_score,\"\\nVariance_error:\",ve,\"\\nCoefficient of Variance error:\",cve)"
   ]
  },
  {
   "cell_type": "markdown",
   "metadata": {
    "id": "uePVhs2zEhLF"
   },
   "source": [
    "**Final prediction output for test data:**"
   ]
  },
  {
   "cell_type": "code",
   "execution_count": 38,
   "metadata": {
    "executionInfo": {
     "elapsed": 1057,
     "status": "ok",
     "timestamp": 1615967083388,
     "user": {
      "displayName": "vijaya bharathi paari",
      "photoUrl": "https://lh3.googleusercontent.com/a-/AOh14GgjhVrsY1cio12_7TS87bdYXqQu9_4C62ofGBjk=s64",
      "userId": "10977904578585558766"
     },
     "user_tz": -330
    },
    "id": "8GcuX4vvIf7a"
   },
   "outputs": [],
   "source": [
    "outcome = pd.concat([xtest_pf,ytest_tf],axis=1)\n",
    "outcome[\"Predicted _ values\"] = ypred"
   ]
  },
  {
   "cell_type": "code",
   "execution_count": 39,
   "metadata": {
    "colab": {
     "base_uri": "https://localhost:8080/",
     "height": 195
    },
    "executionInfo": {
     "elapsed": 1060,
     "status": "ok",
     "timestamp": 1615967152998,
     "user": {
      "displayName": "vijaya bharathi paari",
      "photoUrl": "https://lh3.googleusercontent.com/a-/AOh14GgjhVrsY1cio12_7TS87bdYXqQu9_4C62ofGBjk=s64",
      "userId": "10977904578585558766"
     },
     "user_tz": -330
    },
    "id": "4rJaGcb-IqXB",
    "outputId": "a8d1c025-5214-46e0-e605-99481cbfcba8"
   },
   "outputs": [
    {
     "data": {
      "text/html": [
       "<div>\n",
       "<style scoped>\n",
       "    .dataframe tbody tr th:only-of-type {\n",
       "        vertical-align: middle;\n",
       "    }\n",
       "\n",
       "    .dataframe tbody tr th {\n",
       "        vertical-align: top;\n",
       "    }\n",
       "\n",
       "    .dataframe thead th {\n",
       "        text-align: right;\n",
       "    }\n",
       "</style>\n",
       "<table border=\"1\" class=\"dataframe\">\n",
       "  <thead>\n",
       "    <tr style=\"text-align: right;\">\n",
       "      <th></th>\n",
       "      <th>price</th>\n",
       "      <th>Predicted _ values</th>\n",
       "    </tr>\n",
       "  </thead>\n",
       "  <tbody>\n",
       "    <tr>\n",
       "      <th>260</th>\n",
       "      <td>6.356108</td>\n",
       "      <td>6.211731</td>\n",
       "    </tr>\n",
       "    <tr>\n",
       "      <th>310</th>\n",
       "      <td>6.587550</td>\n",
       "      <td>6.858086</td>\n",
       "    </tr>\n",
       "    <tr>\n",
       "      <th>54</th>\n",
       "      <td>8.268219</td>\n",
       "      <td>8.460320</td>\n",
       "    </tr>\n",
       "    <tr>\n",
       "      <th>161</th>\n",
       "      <td>6.473891</td>\n",
       "      <td>7.042968</td>\n",
       "    </tr>\n",
       "    <tr>\n",
       "      <th>1247</th>\n",
       "      <td>9.539860</td>\n",
       "      <td>9.204386</td>\n",
       "    </tr>\n",
       "  </tbody>\n",
       "</table>\n",
       "</div>"
      ],
      "text/plain": [
       "         price  Predicted _ values\n",
       "260   6.356108            6.211731\n",
       "310   6.587550            6.858086\n",
       "54    8.268219            8.460320\n",
       "161   6.473891            7.042968\n",
       "1247  9.539860            9.204386"
      ]
     },
     "execution_count": 39,
     "metadata": {},
     "output_type": "execute_result"
    }
   ],
   "source": [
    "outcome[[\"price\",\"Predicted _ values\"]].head()"
   ]
  },
  {
   "cell_type": "markdown",
   "metadata": {
    "id": "Z9IuIo4AKdoP"
   },
   "source": [
    "Feature importance in terms of coefficient:"
   ]
  },
  {
   "cell_type": "code",
   "execution_count": 40,
   "metadata": {
    "colab": {
     "base_uri": "https://localhost:8080/",
     "height": 432
    },
    "executionInfo": {
     "elapsed": 979,
     "status": "ok",
     "timestamp": 1615967541816,
     "user": {
      "displayName": "vijaya bharathi paari",
      "photoUrl": "https://lh3.googleusercontent.com/a-/AOh14GgjhVrsY1cio12_7TS87bdYXqQu9_4C62ofGBjk=s64",
      "userId": "10977904578585558766"
     },
     "user_tz": -330
    },
    "id": "D0SLJ6PrKmTj",
    "outputId": "e7aca3c3-b441-4086-c384-6b04afd558a6"
   },
   "outputs": [
    {
     "data": {
      "text/html": [
       "<div>\n",
       "<style scoped>\n",
       "    .dataframe tbody tr th:only-of-type {\n",
       "        vertical-align: middle;\n",
       "    }\n",
       "\n",
       "    .dataframe tbody tr th {\n",
       "        vertical-align: top;\n",
       "    }\n",
       "\n",
       "    .dataframe thead th {\n",
       "        text-align: right;\n",
       "    }\n",
       "</style>\n",
       "<table border=\"1\" class=\"dataframe\">\n",
       "  <thead>\n",
       "    <tr style=\"text-align: right;\">\n",
       "      <th></th>\n",
       "      <th>coef_</th>\n",
       "    </tr>\n",
       "  </thead>\n",
       "  <tbody>\n",
       "    <tr>\n",
       "      <th>carat</th>\n",
       "      <td>1.029590</td>\n",
       "    </tr>\n",
       "    <tr>\n",
       "      <th>depth</th>\n",
       "      <td>-0.007665</td>\n",
       "    </tr>\n",
       "    <tr>\n",
       "      <th>table</th>\n",
       "      <td>-0.022208</td>\n",
       "    </tr>\n",
       "    <tr>\n",
       "      <th>cut_Good</th>\n",
       "      <td>0.018056</td>\n",
       "    </tr>\n",
       "    <tr>\n",
       "      <th>cut_Ideal</th>\n",
       "      <td>0.083048</td>\n",
       "    </tr>\n",
       "    <tr>\n",
       "      <th>cut_Premium</th>\n",
       "      <td>0.053115</td>\n",
       "    </tr>\n",
       "    <tr>\n",
       "      <th>cut_Very Good</th>\n",
       "      <td>0.053024</td>\n",
       "    </tr>\n",
       "    <tr>\n",
       "      <th>color_E</th>\n",
       "      <td>-0.009568</td>\n",
       "    </tr>\n",
       "    <tr>\n",
       "      <th>color_F</th>\n",
       "      <td>-0.002733</td>\n",
       "    </tr>\n",
       "    <tr>\n",
       "      <th>color_G</th>\n",
       "      <td>-0.011212</td>\n",
       "    </tr>\n",
       "    <tr>\n",
       "      <th>color_H</th>\n",
       "      <td>-0.061074</td>\n",
       "    </tr>\n",
       "    <tr>\n",
       "      <th>color_I</th>\n",
       "      <td>-0.073326</td>\n",
       "    </tr>\n",
       "    <tr>\n",
       "      <th>color_J</th>\n",
       "      <td>-0.087310</td>\n",
       "    </tr>\n",
       "  </tbody>\n",
       "</table>\n",
       "</div>"
      ],
      "text/plain": [
       "                  coef_\n",
       "carat          1.029590\n",
       "depth         -0.007665\n",
       "table         -0.022208\n",
       "cut_Good       0.018056\n",
       "cut_Ideal      0.083048\n",
       "cut_Premium    0.053115\n",
       "cut_Very Good  0.053024\n",
       "color_E       -0.009568\n",
       "color_F       -0.002733\n",
       "color_G       -0.011212\n",
       "color_H       -0.061074\n",
       "color_I       -0.073326\n",
       "color_J       -0.087310"
      ]
     },
     "execution_count": 40,
     "metadata": {},
     "output_type": "execute_result"
    }
   ],
   "source": [
    "importance = pd.DataFrame({\"coef_\":mod.coef_},index=xtest_pf.columns)\n",
    "importance"
   ]
  },
  {
   "cell_type": "markdown",
   "metadata": {
    "id": "Dh7cmuBeK9W1"
   },
   "source": [
    "-------------------------------------------------------------"
   ]
  }
 ],
 "metadata": {
  "colab": {
   "authorship_tag": "ABX9TyNoxCagloDB2oSl5kLqPDU5",
   "collapsed_sections": [],
   "name": "Untitled0.ipynb",
   "provenance": []
  },
  "kernelspec": {
   "display_name": "Python 3",
   "language": "python",
   "name": "python3"
  },
  "language_info": {
   "codemirror_mode": {
    "name": "ipython",
    "version": 3
   },
   "file_extension": ".py",
   "mimetype": "text/x-python",
   "name": "python",
   "nbconvert_exporter": "python",
   "pygments_lexer": "ipython3",
   "version": "3.7.6"
  }
 },
 "nbformat": 4,
 "nbformat_minor": 1
}
